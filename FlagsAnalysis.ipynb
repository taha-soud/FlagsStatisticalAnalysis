{
  "cells": [
    {
      "cell_type": "code",
      "execution_count": null,
      "id": "6b66642d",
      "metadata": {
        "id": "6b66642d"
      },
      "outputs": [],
      "source": [
        "# importing pandas as pd\n",
        "import pandas as pd\n",
        "\n",
        "# importing numpy as np\n",
        "import numpy as np\n",
        "\n",
        "#importing seaborn as sns\n",
        "import seaborn as sns\n",
        "\n",
        "#importing matplot as mp\n",
        "import matplotlib.pyplot as plt\n"
      ]
    },
    {
      "cell_type": "code",
      "execution_count": null,
      "id": "7000ef1d",
      "metadata": {
        "colab": {
          "base_uri": "https://localhost:8080/",
          "height": 380
        },
        "id": "7000ef1d",
        "outputId": "025df462-a4ec-45fd-e41a-643341fa6bf6"
      },
      "outputs": [
        {
          "ename": "FileNotFoundError",
          "evalue": "ignored",
          "output_type": "error",
          "traceback": [
            "\u001b[0;31m---------------------------------------------------------------------------\u001b[0m",
            "\u001b[0;31mFileNotFoundError\u001b[0m                         Traceback (most recent call last)",
            "\u001b[0;32m<ipython-input-2-9e3c84831980>\u001b[0m in \u001b[0;36m<cell line: 2>\u001b[0;34m()\u001b[0m\n\u001b[1;32m      1\u001b[0m \u001b[0;31m# reading the data from the local file\u001b[0m\u001b[0;34m\u001b[0m\u001b[0;34m\u001b[0m\u001b[0m\n\u001b[0;32m----> 2\u001b[0;31m \u001b[0mdata\u001b[0m\u001b[0;34m=\u001b[0m\u001b[0mpd\u001b[0m\u001b[0;34m.\u001b[0m\u001b[0mread_csv\u001b[0m\u001b[0;34m(\u001b[0m\u001b[0;34m'/content/drive/MyDrive/project/flag.data'\u001b[0m\u001b[0;34m)\u001b[0m\u001b[0;34m\u001b[0m\u001b[0;34m\u001b[0m\u001b[0m\n\u001b[0m\u001b[1;32m      3\u001b[0m \u001b[0;31m# creating a dataframe using pandas library\u001b[0m\u001b[0;34m\u001b[0m\u001b[0;34m\u001b[0m\u001b[0m\n\u001b[1;32m      4\u001b[0m \u001b[0mdf\u001b[0m\u001b[0;34m=\u001b[0m\u001b[0mpd\u001b[0m\u001b[0;34m.\u001b[0m\u001b[0mDataFrame\u001b[0m\u001b[0;34m(\u001b[0m\u001b[0mdata\u001b[0m\u001b[0;34m)\u001b[0m\u001b[0;34m\u001b[0m\u001b[0;34m\u001b[0m\u001b[0m\n",
            "\u001b[0;32m/usr/local/lib/python3.10/dist-packages/pandas/util/_decorators.py\u001b[0m in \u001b[0;36mwrapper\u001b[0;34m(*args, **kwargs)\u001b[0m\n\u001b[1;32m    209\u001b[0m                 \u001b[0;32melse\u001b[0m\u001b[0;34m:\u001b[0m\u001b[0;34m\u001b[0m\u001b[0;34m\u001b[0m\u001b[0m\n\u001b[1;32m    210\u001b[0m                     \u001b[0mkwargs\u001b[0m\u001b[0;34m[\u001b[0m\u001b[0mnew_arg_name\u001b[0m\u001b[0;34m]\u001b[0m \u001b[0;34m=\u001b[0m \u001b[0mnew_arg_value\u001b[0m\u001b[0;34m\u001b[0m\u001b[0;34m\u001b[0m\u001b[0m\n\u001b[0;32m--> 211\u001b[0;31m             \u001b[0;32mreturn\u001b[0m \u001b[0mfunc\u001b[0m\u001b[0;34m(\u001b[0m\u001b[0;34m*\u001b[0m\u001b[0margs\u001b[0m\u001b[0;34m,\u001b[0m \u001b[0;34m**\u001b[0m\u001b[0mkwargs\u001b[0m\u001b[0;34m)\u001b[0m\u001b[0;34m\u001b[0m\u001b[0;34m\u001b[0m\u001b[0m\n\u001b[0m\u001b[1;32m    212\u001b[0m \u001b[0;34m\u001b[0m\u001b[0m\n\u001b[1;32m    213\u001b[0m         \u001b[0;32mreturn\u001b[0m \u001b[0mcast\u001b[0m\u001b[0;34m(\u001b[0m\u001b[0mF\u001b[0m\u001b[0;34m,\u001b[0m \u001b[0mwrapper\u001b[0m\u001b[0;34m)\u001b[0m\u001b[0;34m\u001b[0m\u001b[0;34m\u001b[0m\u001b[0m\n",
            "\u001b[0;32m/usr/local/lib/python3.10/dist-packages/pandas/util/_decorators.py\u001b[0m in \u001b[0;36mwrapper\u001b[0;34m(*args, **kwargs)\u001b[0m\n\u001b[1;32m    329\u001b[0m                     \u001b[0mstacklevel\u001b[0m\u001b[0;34m=\u001b[0m\u001b[0mfind_stack_level\u001b[0m\u001b[0;34m(\u001b[0m\u001b[0;34m)\u001b[0m\u001b[0;34m,\u001b[0m\u001b[0;34m\u001b[0m\u001b[0;34m\u001b[0m\u001b[0m\n\u001b[1;32m    330\u001b[0m                 )\n\u001b[0;32m--> 331\u001b[0;31m             \u001b[0;32mreturn\u001b[0m \u001b[0mfunc\u001b[0m\u001b[0;34m(\u001b[0m\u001b[0;34m*\u001b[0m\u001b[0margs\u001b[0m\u001b[0;34m,\u001b[0m \u001b[0;34m**\u001b[0m\u001b[0mkwargs\u001b[0m\u001b[0;34m)\u001b[0m\u001b[0;34m\u001b[0m\u001b[0;34m\u001b[0m\u001b[0m\n\u001b[0m\u001b[1;32m    332\u001b[0m \u001b[0;34m\u001b[0m\u001b[0m\n\u001b[1;32m    333\u001b[0m         \u001b[0;31m# error: \"Callable[[VarArg(Any), KwArg(Any)], Any]\" has no\u001b[0m\u001b[0;34m\u001b[0m\u001b[0;34m\u001b[0m\u001b[0m\n",
            "\u001b[0;32m/usr/local/lib/python3.10/dist-packages/pandas/io/parsers/readers.py\u001b[0m in \u001b[0;36mread_csv\u001b[0;34m(filepath_or_buffer, sep, delimiter, header, names, index_col, usecols, squeeze, prefix, mangle_dupe_cols, dtype, engine, converters, true_values, false_values, skipinitialspace, skiprows, skipfooter, nrows, na_values, keep_default_na, na_filter, verbose, skip_blank_lines, parse_dates, infer_datetime_format, keep_date_col, date_parser, dayfirst, cache_dates, iterator, chunksize, compression, thousands, decimal, lineterminator, quotechar, quoting, doublequote, escapechar, comment, encoding, encoding_errors, dialect, error_bad_lines, warn_bad_lines, on_bad_lines, delim_whitespace, low_memory, memory_map, float_precision, storage_options)\u001b[0m\n\u001b[1;32m    948\u001b[0m     \u001b[0mkwds\u001b[0m\u001b[0;34m.\u001b[0m\u001b[0mupdate\u001b[0m\u001b[0;34m(\u001b[0m\u001b[0mkwds_defaults\u001b[0m\u001b[0;34m)\u001b[0m\u001b[0;34m\u001b[0m\u001b[0;34m\u001b[0m\u001b[0m\n\u001b[1;32m    949\u001b[0m \u001b[0;34m\u001b[0m\u001b[0m\n\u001b[0;32m--> 950\u001b[0;31m     \u001b[0;32mreturn\u001b[0m \u001b[0m_read\u001b[0m\u001b[0;34m(\u001b[0m\u001b[0mfilepath_or_buffer\u001b[0m\u001b[0;34m,\u001b[0m \u001b[0mkwds\u001b[0m\u001b[0;34m)\u001b[0m\u001b[0;34m\u001b[0m\u001b[0;34m\u001b[0m\u001b[0m\n\u001b[0m\u001b[1;32m    951\u001b[0m \u001b[0;34m\u001b[0m\u001b[0m\n\u001b[1;32m    952\u001b[0m \u001b[0;34m\u001b[0m\u001b[0m\n",
            "\u001b[0;32m/usr/local/lib/python3.10/dist-packages/pandas/io/parsers/readers.py\u001b[0m in \u001b[0;36m_read\u001b[0;34m(filepath_or_buffer, kwds)\u001b[0m\n\u001b[1;32m    603\u001b[0m \u001b[0;34m\u001b[0m\u001b[0m\n\u001b[1;32m    604\u001b[0m     \u001b[0;31m# Create the parser.\u001b[0m\u001b[0;34m\u001b[0m\u001b[0;34m\u001b[0m\u001b[0m\n\u001b[0;32m--> 605\u001b[0;31m     \u001b[0mparser\u001b[0m \u001b[0;34m=\u001b[0m \u001b[0mTextFileReader\u001b[0m\u001b[0;34m(\u001b[0m\u001b[0mfilepath_or_buffer\u001b[0m\u001b[0;34m,\u001b[0m \u001b[0;34m**\u001b[0m\u001b[0mkwds\u001b[0m\u001b[0;34m)\u001b[0m\u001b[0;34m\u001b[0m\u001b[0;34m\u001b[0m\u001b[0m\n\u001b[0m\u001b[1;32m    606\u001b[0m \u001b[0;34m\u001b[0m\u001b[0m\n\u001b[1;32m    607\u001b[0m     \u001b[0;32mif\u001b[0m \u001b[0mchunksize\u001b[0m \u001b[0;32mor\u001b[0m \u001b[0miterator\u001b[0m\u001b[0;34m:\u001b[0m\u001b[0;34m\u001b[0m\u001b[0;34m\u001b[0m\u001b[0m\n",
            "\u001b[0;32m/usr/local/lib/python3.10/dist-packages/pandas/io/parsers/readers.py\u001b[0m in \u001b[0;36m__init__\u001b[0;34m(self, f, engine, **kwds)\u001b[0m\n\u001b[1;32m   1440\u001b[0m \u001b[0;34m\u001b[0m\u001b[0m\n\u001b[1;32m   1441\u001b[0m         \u001b[0mself\u001b[0m\u001b[0;34m.\u001b[0m\u001b[0mhandles\u001b[0m\u001b[0;34m:\u001b[0m \u001b[0mIOHandles\u001b[0m \u001b[0;34m|\u001b[0m \u001b[0;32mNone\u001b[0m \u001b[0;34m=\u001b[0m \u001b[0;32mNone\u001b[0m\u001b[0;34m\u001b[0m\u001b[0;34m\u001b[0m\u001b[0m\n\u001b[0;32m-> 1442\u001b[0;31m         \u001b[0mself\u001b[0m\u001b[0;34m.\u001b[0m\u001b[0m_engine\u001b[0m \u001b[0;34m=\u001b[0m \u001b[0mself\u001b[0m\u001b[0;34m.\u001b[0m\u001b[0m_make_engine\u001b[0m\u001b[0;34m(\u001b[0m\u001b[0mf\u001b[0m\u001b[0;34m,\u001b[0m \u001b[0mself\u001b[0m\u001b[0;34m.\u001b[0m\u001b[0mengine\u001b[0m\u001b[0;34m)\u001b[0m\u001b[0;34m\u001b[0m\u001b[0;34m\u001b[0m\u001b[0m\n\u001b[0m\u001b[1;32m   1443\u001b[0m \u001b[0;34m\u001b[0m\u001b[0m\n\u001b[1;32m   1444\u001b[0m     \u001b[0;32mdef\u001b[0m \u001b[0mclose\u001b[0m\u001b[0;34m(\u001b[0m\u001b[0mself\u001b[0m\u001b[0;34m)\u001b[0m \u001b[0;34m->\u001b[0m \u001b[0;32mNone\u001b[0m\u001b[0;34m:\u001b[0m\u001b[0;34m\u001b[0m\u001b[0;34m\u001b[0m\u001b[0m\n",
            "\u001b[0;32m/usr/local/lib/python3.10/dist-packages/pandas/io/parsers/readers.py\u001b[0m in \u001b[0;36m_make_engine\u001b[0;34m(self, f, engine)\u001b[0m\n\u001b[1;32m   1733\u001b[0m                 \u001b[0;32mif\u001b[0m \u001b[0;34m\"b\"\u001b[0m \u001b[0;32mnot\u001b[0m \u001b[0;32min\u001b[0m \u001b[0mmode\u001b[0m\u001b[0;34m:\u001b[0m\u001b[0;34m\u001b[0m\u001b[0;34m\u001b[0m\u001b[0m\n\u001b[1;32m   1734\u001b[0m                     \u001b[0mmode\u001b[0m \u001b[0;34m+=\u001b[0m \u001b[0;34m\"b\"\u001b[0m\u001b[0;34m\u001b[0m\u001b[0;34m\u001b[0m\u001b[0m\n\u001b[0;32m-> 1735\u001b[0;31m             self.handles = get_handle(\n\u001b[0m\u001b[1;32m   1736\u001b[0m                 \u001b[0mf\u001b[0m\u001b[0;34m,\u001b[0m\u001b[0;34m\u001b[0m\u001b[0;34m\u001b[0m\u001b[0m\n\u001b[1;32m   1737\u001b[0m                 \u001b[0mmode\u001b[0m\u001b[0;34m,\u001b[0m\u001b[0;34m\u001b[0m\u001b[0;34m\u001b[0m\u001b[0m\n",
            "\u001b[0;32m/usr/local/lib/python3.10/dist-packages/pandas/io/common.py\u001b[0m in \u001b[0;36mget_handle\u001b[0;34m(path_or_buf, mode, encoding, compression, memory_map, is_text, errors, storage_options)\u001b[0m\n\u001b[1;32m    854\u001b[0m         \u001b[0;32mif\u001b[0m \u001b[0mioargs\u001b[0m\u001b[0;34m.\u001b[0m\u001b[0mencoding\u001b[0m \u001b[0;32mand\u001b[0m \u001b[0;34m\"b\"\u001b[0m \u001b[0;32mnot\u001b[0m \u001b[0;32min\u001b[0m \u001b[0mioargs\u001b[0m\u001b[0;34m.\u001b[0m\u001b[0mmode\u001b[0m\u001b[0;34m:\u001b[0m\u001b[0;34m\u001b[0m\u001b[0;34m\u001b[0m\u001b[0m\n\u001b[1;32m    855\u001b[0m             \u001b[0;31m# Encoding\u001b[0m\u001b[0;34m\u001b[0m\u001b[0;34m\u001b[0m\u001b[0m\n\u001b[0;32m--> 856\u001b[0;31m             handle = open(\n\u001b[0m\u001b[1;32m    857\u001b[0m                 \u001b[0mhandle\u001b[0m\u001b[0;34m,\u001b[0m\u001b[0;34m\u001b[0m\u001b[0;34m\u001b[0m\u001b[0m\n\u001b[1;32m    858\u001b[0m                 \u001b[0mioargs\u001b[0m\u001b[0;34m.\u001b[0m\u001b[0mmode\u001b[0m\u001b[0;34m,\u001b[0m\u001b[0;34m\u001b[0m\u001b[0;34m\u001b[0m\u001b[0m\n",
            "\u001b[0;31mFileNotFoundError\u001b[0m: [Errno 2] No such file or directory: '/content/drive/MyDrive/project/flag.data'"
          ]
        }
      ],
      "source": [
        "# reading the data from the local file\n",
        "data=pd.read_csv('/content/drive/MyDrive/project/flag.data')\n",
        "# creating a dataframe using pandas library\n",
        "df=pd.DataFrame(data)"
      ]
    },
    {
      "cell_type": "code",
      "execution_count": null,
      "id": "tCWErZeV4RFL",
      "metadata": {
        "colab": {
          "base_uri": "https://localhost:8080/"
        },
        "id": "tCWErZeV4RFL",
        "outputId": "354c9690-4385-4642-984e-d64e61de2107"
      },
      "outputs": [
        {
          "name": "stdout",
          "output_type": "stream",
          "text": [
            "Mounted at /content/drive\n"
          ]
        }
      ],
      "source": [
        "from google.colab import drive\n",
        "drive.mount('/content/drive')"
      ]
    },
    {
      "cell_type": "code",
      "execution_count": null,
      "id": "50837515",
      "metadata": {
        "colab": {
          "base_uri": "https://localhost:8080/"
        },
        "id": "50837515",
        "outputId": "3c5706cf-95f9-474e-dff3-e9b19d72d335"
      },
      "outputs": [
        {
          "data": {
            "text/plain": [
              "(193, 30)"
            ]
          },
          "execution_count": 5,
          "metadata": {},
          "output_type": "execute_result"
        }
      ],
      "source": [
        "# as written in the provided link, we have 193 instances(rows) and 30 features(columns)\n",
        "df.shape"
      ]
    },
    {
      "cell_type": "code",
      "execution_count": null,
      "id": "ga2NdPxjBUVH",
      "metadata": {
        "id": "ga2NdPxjBUVH"
      },
      "outputs": [],
      "source": []
    },
    {
      "cell_type": "markdown",
      "id": "9519062d",
      "metadata": {
        "id": "9519062d"
      },
      "source": [
        "### Taking a look on the data"
      ]
    },
    {
      "cell_type": "code",
      "execution_count": null,
      "id": "7d9bf713",
      "metadata": {
        "colab": {
          "base_uri": "https://localhost:8080/",
          "height": 424
        },
        "id": "7d9bf713",
        "outputId": "38422789-ee35-4f3a-b1fe-1fc7c8b6a59c"
      },
      "outputs": [
        {
          "data": {
            "text/html": [
              "\n",
              "  <div id=\"df-5b50d831-31ad-4d5b-b44e-ee2a33d6d8b7\">\n",
              "    <div class=\"colab-df-container\">\n",
              "      <div>\n",
              "<style scoped>\n",
              "    .dataframe tbody tr th:only-of-type {\n",
              "        vertical-align: middle;\n",
              "    }\n",
              "\n",
              "    .dataframe tbody tr th {\n",
              "        vertical-align: top;\n",
              "    }\n",
              "\n",
              "    .dataframe thead th {\n",
              "        text-align: right;\n",
              "    }\n",
              "</style>\n",
              "<table border=\"1\" class=\"dataframe\">\n",
              "  <thead>\n",
              "    <tr style=\"text-align: right;\">\n",
              "      <th></th>\n",
              "      <th>Afghanistan</th>\n",
              "      <th>5</th>\n",
              "      <th>1</th>\n",
              "      <th>648</th>\n",
              "      <th>16</th>\n",
              "      <th>10</th>\n",
              "      <th>2</th>\n",
              "      <th>0</th>\n",
              "      <th>3</th>\n",
              "      <th>5.1</th>\n",
              "      <th>...</th>\n",
              "      <th>0.5</th>\n",
              "      <th>0.6</th>\n",
              "      <th>1.6</th>\n",
              "      <th>0.7</th>\n",
              "      <th>0.8</th>\n",
              "      <th>1.7</th>\n",
              "      <th>0.9</th>\n",
              "      <th>0.10</th>\n",
              "      <th>black</th>\n",
              "      <th>green.1</th>\n",
              "    </tr>\n",
              "  </thead>\n",
              "  <tbody>\n",
              "    <tr>\n",
              "      <th>0</th>\n",
              "      <td>Albania</td>\n",
              "      <td>3</td>\n",
              "      <td>1</td>\n",
              "      <td>29</td>\n",
              "      <td>3</td>\n",
              "      <td>6</td>\n",
              "      <td>6</td>\n",
              "      <td>0</td>\n",
              "      <td>0</td>\n",
              "      <td>3</td>\n",
              "      <td>...</td>\n",
              "      <td>0</td>\n",
              "      <td>0</td>\n",
              "      <td>1</td>\n",
              "      <td>0</td>\n",
              "      <td>0</td>\n",
              "      <td>0</td>\n",
              "      <td>1</td>\n",
              "      <td>0</td>\n",
              "      <td>red</td>\n",
              "      <td>red</td>\n",
              "    </tr>\n",
              "    <tr>\n",
              "      <th>1</th>\n",
              "      <td>Algeria</td>\n",
              "      <td>4</td>\n",
              "      <td>1</td>\n",
              "      <td>2388</td>\n",
              "      <td>20</td>\n",
              "      <td>8</td>\n",
              "      <td>2</td>\n",
              "      <td>2</td>\n",
              "      <td>0</td>\n",
              "      <td>3</td>\n",
              "      <td>...</td>\n",
              "      <td>0</td>\n",
              "      <td>0</td>\n",
              "      <td>1</td>\n",
              "      <td>1</td>\n",
              "      <td>0</td>\n",
              "      <td>0</td>\n",
              "      <td>0</td>\n",
              "      <td>0</td>\n",
              "      <td>green</td>\n",
              "      <td>white</td>\n",
              "    </tr>\n",
              "    <tr>\n",
              "      <th>2</th>\n",
              "      <td>American-Samoa</td>\n",
              "      <td>6</td>\n",
              "      <td>3</td>\n",
              "      <td>0</td>\n",
              "      <td>0</td>\n",
              "      <td>1</td>\n",
              "      <td>1</td>\n",
              "      <td>0</td>\n",
              "      <td>0</td>\n",
              "      <td>5</td>\n",
              "      <td>...</td>\n",
              "      <td>0</td>\n",
              "      <td>0</td>\n",
              "      <td>0</td>\n",
              "      <td>0</td>\n",
              "      <td>1</td>\n",
              "      <td>1</td>\n",
              "      <td>1</td>\n",
              "      <td>0</td>\n",
              "      <td>blue</td>\n",
              "      <td>red</td>\n",
              "    </tr>\n",
              "    <tr>\n",
              "      <th>3</th>\n",
              "      <td>Andorra</td>\n",
              "      <td>3</td>\n",
              "      <td>1</td>\n",
              "      <td>0</td>\n",
              "      <td>0</td>\n",
              "      <td>6</td>\n",
              "      <td>0</td>\n",
              "      <td>3</td>\n",
              "      <td>0</td>\n",
              "      <td>3</td>\n",
              "      <td>...</td>\n",
              "      <td>0</td>\n",
              "      <td>0</td>\n",
              "      <td>0</td>\n",
              "      <td>0</td>\n",
              "      <td>0</td>\n",
              "      <td>0</td>\n",
              "      <td>0</td>\n",
              "      <td>0</td>\n",
              "      <td>blue</td>\n",
              "      <td>red</td>\n",
              "    </tr>\n",
              "    <tr>\n",
              "      <th>4</th>\n",
              "      <td>Angola</td>\n",
              "      <td>4</td>\n",
              "      <td>2</td>\n",
              "      <td>1247</td>\n",
              "      <td>7</td>\n",
              "      <td>10</td>\n",
              "      <td>5</td>\n",
              "      <td>0</td>\n",
              "      <td>2</td>\n",
              "      <td>3</td>\n",
              "      <td>...</td>\n",
              "      <td>0</td>\n",
              "      <td>0</td>\n",
              "      <td>1</td>\n",
              "      <td>0</td>\n",
              "      <td>0</td>\n",
              "      <td>1</td>\n",
              "      <td>0</td>\n",
              "      <td>0</td>\n",
              "      <td>red</td>\n",
              "      <td>black</td>\n",
              "    </tr>\n",
              "    <tr>\n",
              "      <th>...</th>\n",
              "      <td>...</td>\n",
              "      <td>...</td>\n",
              "      <td>...</td>\n",
              "      <td>...</td>\n",
              "      <td>...</td>\n",
              "      <td>...</td>\n",
              "      <td>...</td>\n",
              "      <td>...</td>\n",
              "      <td>...</td>\n",
              "      <td>...</td>\n",
              "      <td>...</td>\n",
              "      <td>...</td>\n",
              "      <td>...</td>\n",
              "      <td>...</td>\n",
              "      <td>...</td>\n",
              "      <td>...</td>\n",
              "      <td>...</td>\n",
              "      <td>...</td>\n",
              "      <td>...</td>\n",
              "      <td>...</td>\n",
              "      <td>...</td>\n",
              "    </tr>\n",
              "    <tr>\n",
              "      <th>188</th>\n",
              "      <td>Western-Samoa</td>\n",
              "      <td>6</td>\n",
              "      <td>3</td>\n",
              "      <td>3</td>\n",
              "      <td>0</td>\n",
              "      <td>1</td>\n",
              "      <td>1</td>\n",
              "      <td>0</td>\n",
              "      <td>0</td>\n",
              "      <td>3</td>\n",
              "      <td>...</td>\n",
              "      <td>0</td>\n",
              "      <td>1</td>\n",
              "      <td>5</td>\n",
              "      <td>0</td>\n",
              "      <td>0</td>\n",
              "      <td>0</td>\n",
              "      <td>0</td>\n",
              "      <td>0</td>\n",
              "      <td>blue</td>\n",
              "      <td>red</td>\n",
              "    </tr>\n",
              "    <tr>\n",
              "      <th>189</th>\n",
              "      <td>Yugoslavia</td>\n",
              "      <td>3</td>\n",
              "      <td>1</td>\n",
              "      <td>256</td>\n",
              "      <td>22</td>\n",
              "      <td>6</td>\n",
              "      <td>6</td>\n",
              "      <td>0</td>\n",
              "      <td>3</td>\n",
              "      <td>4</td>\n",
              "      <td>...</td>\n",
              "      <td>0</td>\n",
              "      <td>0</td>\n",
              "      <td>1</td>\n",
              "      <td>0</td>\n",
              "      <td>0</td>\n",
              "      <td>0</td>\n",
              "      <td>0</td>\n",
              "      <td>0</td>\n",
              "      <td>blue</td>\n",
              "      <td>red</td>\n",
              "    </tr>\n",
              "    <tr>\n",
              "      <th>190</th>\n",
              "      <td>Zaire</td>\n",
              "      <td>4</td>\n",
              "      <td>2</td>\n",
              "      <td>905</td>\n",
              "      <td>28</td>\n",
              "      <td>10</td>\n",
              "      <td>5</td>\n",
              "      <td>0</td>\n",
              "      <td>0</td>\n",
              "      <td>4</td>\n",
              "      <td>...</td>\n",
              "      <td>0</td>\n",
              "      <td>0</td>\n",
              "      <td>0</td>\n",
              "      <td>0</td>\n",
              "      <td>0</td>\n",
              "      <td>1</td>\n",
              "      <td>1</td>\n",
              "      <td>0</td>\n",
              "      <td>green</td>\n",
              "      <td>green</td>\n",
              "    </tr>\n",
              "    <tr>\n",
              "      <th>191</th>\n",
              "      <td>Zambia</td>\n",
              "      <td>4</td>\n",
              "      <td>2</td>\n",
              "      <td>753</td>\n",
              "      <td>6</td>\n",
              "      <td>10</td>\n",
              "      <td>5</td>\n",
              "      <td>3</td>\n",
              "      <td>0</td>\n",
              "      <td>4</td>\n",
              "      <td>...</td>\n",
              "      <td>0</td>\n",
              "      <td>0</td>\n",
              "      <td>0</td>\n",
              "      <td>0</td>\n",
              "      <td>0</td>\n",
              "      <td>0</td>\n",
              "      <td>1</td>\n",
              "      <td>0</td>\n",
              "      <td>green</td>\n",
              "      <td>brown</td>\n",
              "    </tr>\n",
              "    <tr>\n",
              "      <th>192</th>\n",
              "      <td>Zimbabwe</td>\n",
              "      <td>4</td>\n",
              "      <td>2</td>\n",
              "      <td>391</td>\n",
              "      <td>8</td>\n",
              "      <td>10</td>\n",
              "      <td>5</td>\n",
              "      <td>0</td>\n",
              "      <td>7</td>\n",
              "      <td>5</td>\n",
              "      <td>...</td>\n",
              "      <td>0</td>\n",
              "      <td>0</td>\n",
              "      <td>1</td>\n",
              "      <td>0</td>\n",
              "      <td>1</td>\n",
              "      <td>1</td>\n",
              "      <td>1</td>\n",
              "      <td>0</td>\n",
              "      <td>green</td>\n",
              "      <td>green</td>\n",
              "    </tr>\n",
              "  </tbody>\n",
              "</table>\n",
              "<p>193 rows × 30 columns</p>\n",
              "</div>\n",
              "      <button class=\"colab-df-convert\" onclick=\"convertToInteractive('df-5b50d831-31ad-4d5b-b44e-ee2a33d6d8b7')\"\n",
              "              title=\"Convert this dataframe to an interactive table.\"\n",
              "              style=\"display:none;\">\n",
              "        \n",
              "  <svg xmlns=\"http://www.w3.org/2000/svg\" height=\"24px\"viewBox=\"0 0 24 24\"\n",
              "       width=\"24px\">\n",
              "    <path d=\"M0 0h24v24H0V0z\" fill=\"none\"/>\n",
              "    <path d=\"M18.56 5.44l.94 2.06.94-2.06 2.06-.94-2.06-.94-.94-2.06-.94 2.06-2.06.94zm-11 1L8.5 8.5l.94-2.06 2.06-.94-2.06-.94L8.5 2.5l-.94 2.06-2.06.94zm10 10l.94 2.06.94-2.06 2.06-.94-2.06-.94-.94-2.06-.94 2.06-2.06.94z\"/><path d=\"M17.41 7.96l-1.37-1.37c-.4-.4-.92-.59-1.43-.59-.52 0-1.04.2-1.43.59L10.3 9.45l-7.72 7.72c-.78.78-.78 2.05 0 2.83L4 21.41c.39.39.9.59 1.41.59.51 0 1.02-.2 1.41-.59l7.78-7.78 2.81-2.81c.8-.78.8-2.07 0-2.86zM5.41 20L4 18.59l7.72-7.72 1.47 1.35L5.41 20z\"/>\n",
              "  </svg>\n",
              "      </button>\n",
              "      \n",
              "  <style>\n",
              "    .colab-df-container {\n",
              "      display:flex;\n",
              "      flex-wrap:wrap;\n",
              "      gap: 12px;\n",
              "    }\n",
              "\n",
              "    .colab-df-convert {\n",
              "      background-color: #E8F0FE;\n",
              "      border: none;\n",
              "      border-radius: 50%;\n",
              "      cursor: pointer;\n",
              "      display: none;\n",
              "      fill: #1967D2;\n",
              "      height: 32px;\n",
              "      padding: 0 0 0 0;\n",
              "      width: 32px;\n",
              "    }\n",
              "\n",
              "    .colab-df-convert:hover {\n",
              "      background-color: #E2EBFA;\n",
              "      box-shadow: 0px 1px 2px rgba(60, 64, 67, 0.3), 0px 1px 3px 1px rgba(60, 64, 67, 0.15);\n",
              "      fill: #174EA6;\n",
              "    }\n",
              "\n",
              "    [theme=dark] .colab-df-convert {\n",
              "      background-color: #3B4455;\n",
              "      fill: #D2E3FC;\n",
              "    }\n",
              "\n",
              "    [theme=dark] .colab-df-convert:hover {\n",
              "      background-color: #434B5C;\n",
              "      box-shadow: 0px 1px 3px 1px rgba(0, 0, 0, 0.15);\n",
              "      filter: drop-shadow(0px 1px 2px rgba(0, 0, 0, 0.3));\n",
              "      fill: #FFFFFF;\n",
              "    }\n",
              "  </style>\n",
              "\n",
              "      <script>\n",
              "        const buttonEl =\n",
              "          document.querySelector('#df-5b50d831-31ad-4d5b-b44e-ee2a33d6d8b7 button.colab-df-convert');\n",
              "        buttonEl.style.display =\n",
              "          google.colab.kernel.accessAllowed ? 'block' : 'none';\n",
              "\n",
              "        async function convertToInteractive(key) {\n",
              "          const element = document.querySelector('#df-5b50d831-31ad-4d5b-b44e-ee2a33d6d8b7');\n",
              "          const dataTable =\n",
              "            await google.colab.kernel.invokeFunction('convertToInteractive',\n",
              "                                                     [key], {});\n",
              "          if (!dataTable) return;\n",
              "\n",
              "          const docLinkHtml = 'Like what you see? Visit the ' +\n",
              "            '<a target=\"_blank\" href=https://colab.research.google.com/notebooks/data_table.ipynb>data table notebook</a>'\n",
              "            + ' to learn more about interactive tables.';\n",
              "          element.innerHTML = '';\n",
              "          dataTable['output_type'] = 'display_data';\n",
              "          await google.colab.output.renderOutput(dataTable, element);\n",
              "          const docLink = document.createElement('div');\n",
              "          docLink.innerHTML = docLinkHtml;\n",
              "          element.appendChild(docLink);\n",
              "        }\n",
              "      </script>\n",
              "    </div>\n",
              "  </div>\n",
              "  "
            ],
            "text/plain": [
              "        Afghanistan  5  1   648  16  10  2  0  3  5.1  ...  0.5  0.6  1.6  \\\n",
              "0           Albania  3  1    29   3   6  6  0  0    3  ...    0    0    1   \n",
              "1           Algeria  4  1  2388  20   8  2  2  0    3  ...    0    0    1   \n",
              "2    American-Samoa  6  3     0   0   1  1  0  0    5  ...    0    0    0   \n",
              "3           Andorra  3  1     0   0   6  0  3  0    3  ...    0    0    0   \n",
              "4            Angola  4  2  1247   7  10  5  0  2    3  ...    0    0    1   \n",
              "..              ... .. ..   ...  ..  .. .. .. ..  ...  ...  ...  ...  ...   \n",
              "188   Western-Samoa  6  3     3   0   1  1  0  0    3  ...    0    1    5   \n",
              "189      Yugoslavia  3  1   256  22   6  6  0  3    4  ...    0    0    1   \n",
              "190           Zaire  4  2   905  28  10  5  0  0    4  ...    0    0    0   \n",
              "191          Zambia  4  2   753   6  10  5  3  0    4  ...    0    0    0   \n",
              "192        Zimbabwe  4  2   391   8  10  5  0  7    5  ...    0    0    1   \n",
              "\n",
              "     0.7  0.8  1.7  0.9 0.10  black  green.1  \n",
              "0      0    0    0    1    0    red      red  \n",
              "1      1    0    0    0    0  green    white  \n",
              "2      0    1    1    1    0   blue      red  \n",
              "3      0    0    0    0    0   blue      red  \n",
              "4      0    0    1    0    0    red    black  \n",
              "..   ...  ...  ...  ...  ...    ...      ...  \n",
              "188    0    0    0    0    0   blue      red  \n",
              "189    0    0    0    0    0   blue      red  \n",
              "190    0    0    1    1    0  green    green  \n",
              "191    0    0    0    1    0  green    brown  \n",
              "192    0    1    1    1    0  green    green  \n",
              "\n",
              "[193 rows x 30 columns]"
            ]
          },
          "execution_count": 6,
          "metadata": {},
          "output_type": "execute_result"
        }
      ],
      "source": [
        "df"
      ]
    },
    {
      "cell_type": "markdown",
      "id": "b70abd87",
      "metadata": {
        "id": "b70abd87"
      },
      "source": [
        "#### The dataframe doesnt include the column names, because the data and the column names are placed is seperate files.."
      ]
    },
    {
      "cell_type": "code",
      "execution_count": null,
      "id": "08272b3e",
      "metadata": {
        "id": "08272b3e"
      },
      "outputs": [],
      "source": [
        "lis = df.columns"
      ]
    },
    {
      "cell_type": "code",
      "execution_count": null,
      "id": "44bbae34",
      "metadata": {
        "colab": {
          "base_uri": "https://localhost:8080/"
        },
        "id": "44bbae34",
        "outputId": "27f3bad7-7736-45cc-fb2b-b7bf6832543d"
      },
      "outputs": [
        {
          "data": {
            "text/plain": [
              "30"
            ]
          },
          "execution_count": 8,
          "metadata": {},
          "output_type": "execute_result"
        }
      ],
      "source": [
        "columns = ['name','landmass','zone','area','population','language','religion','bars','stripes','colors','red',\\\n",
        "           'green','blue','gold','white','black','orange','mainhue','circles','crosses','saltires','quarters',\\\n",
        "           'sunstars','crescent','triangle','icon','animate','text','topleft','botright']\n",
        "len(columns)"
      ]
    },
    {
      "cell_type": "code",
      "execution_count": null,
      "id": "46f54b21",
      "metadata": {
        "colab": {
          "base_uri": "https://localhost:8080/",
          "height": 235
        },
        "id": "46f54b21",
        "outputId": "aac96ab8-09be-454b-ea32-51da135bd178"
      },
      "outputs": [
        {
          "data": {
            "text/html": [
              "\n",
              "  <div id=\"df-a8e482f4-e000-4eaa-81c9-e8818e73f556\">\n",
              "    <div class=\"colab-df-container\">\n",
              "      <div>\n",
              "<style scoped>\n",
              "    .dataframe tbody tr th:only-of-type {\n",
              "        vertical-align: middle;\n",
              "    }\n",
              "\n",
              "    .dataframe tbody tr th {\n",
              "        vertical-align: top;\n",
              "    }\n",
              "\n",
              "    .dataframe thead th {\n",
              "        text-align: right;\n",
              "    }\n",
              "</style>\n",
              "<table border=\"1\" class=\"dataframe\">\n",
              "  <thead>\n",
              "    <tr style=\"text-align: right;\">\n",
              "      <th></th>\n",
              "      <th>Afghanistan</th>\n",
              "      <th>5</th>\n",
              "      <th>1</th>\n",
              "      <th>648</th>\n",
              "      <th>16</th>\n",
              "      <th>10</th>\n",
              "      <th>2</th>\n",
              "      <th>0</th>\n",
              "      <th>3</th>\n",
              "      <th>5.1</th>\n",
              "      <th>...</th>\n",
              "      <th>0.5</th>\n",
              "      <th>0.6</th>\n",
              "      <th>1.6</th>\n",
              "      <th>0.7</th>\n",
              "      <th>0.8</th>\n",
              "      <th>1.7</th>\n",
              "      <th>0.9</th>\n",
              "      <th>0.10</th>\n",
              "      <th>black</th>\n",
              "      <th>green.1</th>\n",
              "    </tr>\n",
              "  </thead>\n",
              "  <tbody>\n",
              "    <tr>\n",
              "      <th>0</th>\n",
              "      <td>Albania</td>\n",
              "      <td>3</td>\n",
              "      <td>1</td>\n",
              "      <td>29</td>\n",
              "      <td>3</td>\n",
              "      <td>6</td>\n",
              "      <td>6</td>\n",
              "      <td>0</td>\n",
              "      <td>0</td>\n",
              "      <td>3</td>\n",
              "      <td>...</td>\n",
              "      <td>0</td>\n",
              "      <td>0</td>\n",
              "      <td>1</td>\n",
              "      <td>0</td>\n",
              "      <td>0</td>\n",
              "      <td>0</td>\n",
              "      <td>1</td>\n",
              "      <td>0</td>\n",
              "      <td>red</td>\n",
              "      <td>red</td>\n",
              "    </tr>\n",
              "    <tr>\n",
              "      <th>1</th>\n",
              "      <td>Algeria</td>\n",
              "      <td>4</td>\n",
              "      <td>1</td>\n",
              "      <td>2388</td>\n",
              "      <td>20</td>\n",
              "      <td>8</td>\n",
              "      <td>2</td>\n",
              "      <td>2</td>\n",
              "      <td>0</td>\n",
              "      <td>3</td>\n",
              "      <td>...</td>\n",
              "      <td>0</td>\n",
              "      <td>0</td>\n",
              "      <td>1</td>\n",
              "      <td>1</td>\n",
              "      <td>0</td>\n",
              "      <td>0</td>\n",
              "      <td>0</td>\n",
              "      <td>0</td>\n",
              "      <td>green</td>\n",
              "      <td>white</td>\n",
              "    </tr>\n",
              "    <tr>\n",
              "      <th>2</th>\n",
              "      <td>American-Samoa</td>\n",
              "      <td>6</td>\n",
              "      <td>3</td>\n",
              "      <td>0</td>\n",
              "      <td>0</td>\n",
              "      <td>1</td>\n",
              "      <td>1</td>\n",
              "      <td>0</td>\n",
              "      <td>0</td>\n",
              "      <td>5</td>\n",
              "      <td>...</td>\n",
              "      <td>0</td>\n",
              "      <td>0</td>\n",
              "      <td>0</td>\n",
              "      <td>0</td>\n",
              "      <td>1</td>\n",
              "      <td>1</td>\n",
              "      <td>1</td>\n",
              "      <td>0</td>\n",
              "      <td>blue</td>\n",
              "      <td>red</td>\n",
              "    </tr>\n",
              "    <tr>\n",
              "      <th>3</th>\n",
              "      <td>Andorra</td>\n",
              "      <td>3</td>\n",
              "      <td>1</td>\n",
              "      <td>0</td>\n",
              "      <td>0</td>\n",
              "      <td>6</td>\n",
              "      <td>0</td>\n",
              "      <td>3</td>\n",
              "      <td>0</td>\n",
              "      <td>3</td>\n",
              "      <td>...</td>\n",
              "      <td>0</td>\n",
              "      <td>0</td>\n",
              "      <td>0</td>\n",
              "      <td>0</td>\n",
              "      <td>0</td>\n",
              "      <td>0</td>\n",
              "      <td>0</td>\n",
              "      <td>0</td>\n",
              "      <td>blue</td>\n",
              "      <td>red</td>\n",
              "    </tr>\n",
              "    <tr>\n",
              "      <th>4</th>\n",
              "      <td>Angola</td>\n",
              "      <td>4</td>\n",
              "      <td>2</td>\n",
              "      <td>1247</td>\n",
              "      <td>7</td>\n",
              "      <td>10</td>\n",
              "      <td>5</td>\n",
              "      <td>0</td>\n",
              "      <td>2</td>\n",
              "      <td>3</td>\n",
              "      <td>...</td>\n",
              "      <td>0</td>\n",
              "      <td>0</td>\n",
              "      <td>1</td>\n",
              "      <td>0</td>\n",
              "      <td>0</td>\n",
              "      <td>1</td>\n",
              "      <td>0</td>\n",
              "      <td>0</td>\n",
              "      <td>red</td>\n",
              "      <td>black</td>\n",
              "    </tr>\n",
              "  </tbody>\n",
              "</table>\n",
              "<p>5 rows × 30 columns</p>\n",
              "</div>\n",
              "      <button class=\"colab-df-convert\" onclick=\"convertToInteractive('df-a8e482f4-e000-4eaa-81c9-e8818e73f556')\"\n",
              "              title=\"Convert this dataframe to an interactive table.\"\n",
              "              style=\"display:none;\">\n",
              "        \n",
              "  <svg xmlns=\"http://www.w3.org/2000/svg\" height=\"24px\"viewBox=\"0 0 24 24\"\n",
              "       width=\"24px\">\n",
              "    <path d=\"M0 0h24v24H0V0z\" fill=\"none\"/>\n",
              "    <path d=\"M18.56 5.44l.94 2.06.94-2.06 2.06-.94-2.06-.94-.94-2.06-.94 2.06-2.06.94zm-11 1L8.5 8.5l.94-2.06 2.06-.94-2.06-.94L8.5 2.5l-.94 2.06-2.06.94zm10 10l.94 2.06.94-2.06 2.06-.94-2.06-.94-.94-2.06-.94 2.06-2.06.94z\"/><path d=\"M17.41 7.96l-1.37-1.37c-.4-.4-.92-.59-1.43-.59-.52 0-1.04.2-1.43.59L10.3 9.45l-7.72 7.72c-.78.78-.78 2.05 0 2.83L4 21.41c.39.39.9.59 1.41.59.51 0 1.02-.2 1.41-.59l7.78-7.78 2.81-2.81c.8-.78.8-2.07 0-2.86zM5.41 20L4 18.59l7.72-7.72 1.47 1.35L5.41 20z\"/>\n",
              "  </svg>\n",
              "      </button>\n",
              "      \n",
              "  <style>\n",
              "    .colab-df-container {\n",
              "      display:flex;\n",
              "      flex-wrap:wrap;\n",
              "      gap: 12px;\n",
              "    }\n",
              "\n",
              "    .colab-df-convert {\n",
              "      background-color: #E8F0FE;\n",
              "      border: none;\n",
              "      border-radius: 50%;\n",
              "      cursor: pointer;\n",
              "      display: none;\n",
              "      fill: #1967D2;\n",
              "      height: 32px;\n",
              "      padding: 0 0 0 0;\n",
              "      width: 32px;\n",
              "    }\n",
              "\n",
              "    .colab-df-convert:hover {\n",
              "      background-color: #E2EBFA;\n",
              "      box-shadow: 0px 1px 2px rgba(60, 64, 67, 0.3), 0px 1px 3px 1px rgba(60, 64, 67, 0.15);\n",
              "      fill: #174EA6;\n",
              "    }\n",
              "\n",
              "    [theme=dark] .colab-df-convert {\n",
              "      background-color: #3B4455;\n",
              "      fill: #D2E3FC;\n",
              "    }\n",
              "\n",
              "    [theme=dark] .colab-df-convert:hover {\n",
              "      background-color: #434B5C;\n",
              "      box-shadow: 0px 1px 3px 1px rgba(0, 0, 0, 0.15);\n",
              "      filter: drop-shadow(0px 1px 2px rgba(0, 0, 0, 0.3));\n",
              "      fill: #FFFFFF;\n",
              "    }\n",
              "  </style>\n",
              "\n",
              "      <script>\n",
              "        const buttonEl =\n",
              "          document.querySelector('#df-a8e482f4-e000-4eaa-81c9-e8818e73f556 button.colab-df-convert');\n",
              "        buttonEl.style.display =\n",
              "          google.colab.kernel.accessAllowed ? 'block' : 'none';\n",
              "\n",
              "        async function convertToInteractive(key) {\n",
              "          const element = document.querySelector('#df-a8e482f4-e000-4eaa-81c9-e8818e73f556');\n",
              "          const dataTable =\n",
              "            await google.colab.kernel.invokeFunction('convertToInteractive',\n",
              "                                                     [key], {});\n",
              "          if (!dataTable) return;\n",
              "\n",
              "          const docLinkHtml = 'Like what you see? Visit the ' +\n",
              "            '<a target=\"_blank\" href=https://colab.research.google.com/notebooks/data_table.ipynb>data table notebook</a>'\n",
              "            + ' to learn more about interactive tables.';\n",
              "          element.innerHTML = '';\n",
              "          dataTable['output_type'] = 'display_data';\n",
              "          await google.colab.output.renderOutput(dataTable, element);\n",
              "          const docLink = document.createElement('div');\n",
              "          docLink.innerHTML = docLinkHtml;\n",
              "          element.appendChild(docLink);\n",
              "        }\n",
              "      </script>\n",
              "    </div>\n",
              "  </div>\n",
              "  "
            ],
            "text/plain": [
              "      Afghanistan  5  1   648  16  10  2  0  3  5.1  ...  0.5  0.6  1.6  0.7  \\\n",
              "0         Albania  3  1    29   3   6  6  0  0    3  ...    0    0    1    0   \n",
              "1         Algeria  4  1  2388  20   8  2  2  0    3  ...    0    0    1    1   \n",
              "2  American-Samoa  6  3     0   0   1  1  0  0    5  ...    0    0    0    0   \n",
              "3         Andorra  3  1     0   0   6  0  3  0    3  ...    0    0    0    0   \n",
              "4          Angola  4  2  1247   7  10  5  0  2    3  ...    0    0    1    0   \n",
              "\n",
              "   0.8  1.7  0.9 0.10  black  green.1  \n",
              "0    0    0    1    0    red      red  \n",
              "1    0    0    0    0  green    white  \n",
              "2    1    1    1    0   blue      red  \n",
              "3    0    0    0    0   blue      red  \n",
              "4    0    1    0    0    red    black  \n",
              "\n",
              "[5 rows x 30 columns]"
            ]
          },
          "execution_count": 9,
          "metadata": {},
          "output_type": "execute_result"
        }
      ],
      "source": [
        "df.head()"
      ]
    },
    {
      "cell_type": "markdown",
      "id": "4c5b528c",
      "metadata": {
        "id": "4c5b528c"
      },
      "source": [
        "### Turn the column names in to a normal row"
      ]
    },
    {
      "cell_type": "code",
      "execution_count": null,
      "id": "36d1887d",
      "metadata": {
        "id": "36d1887d"
      },
      "outputs": [],
      "source": [
        "df=pd.DataFrame(np.vstack([df.columns, df]))"
      ]
    },
    {
      "cell_type": "markdown",
      "id": "89263739",
      "metadata": {
        "id": "89263739"
      },
      "source": [
        "### Add the column names!"
      ]
    },
    {
      "cell_type": "code",
      "execution_count": null,
      "id": "37877e5f",
      "metadata": {
        "colab": {
          "base_uri": "https://localhost:8080/",
          "height": 522
        },
        "id": "37877e5f",
        "outputId": "022fcaec-e8de-4225-a71a-3fc37fbc7b55"
      },
      "outputs": [
        {
          "data": {
            "text/html": [
              "\n",
              "  <div id=\"df-45cee509-3dbb-48a5-b6ee-46e419cdef90\">\n",
              "    <div class=\"colab-df-container\">\n",
              "      <div>\n",
              "<style scoped>\n",
              "    .dataframe tbody tr th:only-of-type {\n",
              "        vertical-align: middle;\n",
              "    }\n",
              "\n",
              "    .dataframe tbody tr th {\n",
              "        vertical-align: top;\n",
              "    }\n",
              "\n",
              "    .dataframe thead th {\n",
              "        text-align: right;\n",
              "    }\n",
              "</style>\n",
              "<table border=\"1\" class=\"dataframe\">\n",
              "  <thead>\n",
              "    <tr style=\"text-align: right;\">\n",
              "      <th></th>\n",
              "      <th>name</th>\n",
              "      <th>landmass</th>\n",
              "      <th>zone</th>\n",
              "      <th>area</th>\n",
              "      <th>population</th>\n",
              "      <th>language</th>\n",
              "      <th>religion</th>\n",
              "      <th>bars</th>\n",
              "      <th>stripes</th>\n",
              "      <th>colors</th>\n",
              "      <th>...</th>\n",
              "      <th>saltires</th>\n",
              "      <th>quarters</th>\n",
              "      <th>sunstars</th>\n",
              "      <th>crescent</th>\n",
              "      <th>triangle</th>\n",
              "      <th>icon</th>\n",
              "      <th>animate</th>\n",
              "      <th>text</th>\n",
              "      <th>topleft</th>\n",
              "      <th>botright</th>\n",
              "    </tr>\n",
              "  </thead>\n",
              "  <tbody>\n",
              "    <tr>\n",
              "      <th>0</th>\n",
              "      <td>Afghanistan</td>\n",
              "      <td>5</td>\n",
              "      <td>1</td>\n",
              "      <td>648</td>\n",
              "      <td>16</td>\n",
              "      <td>10</td>\n",
              "      <td>2</td>\n",
              "      <td>0</td>\n",
              "      <td>3</td>\n",
              "      <td>5.1</td>\n",
              "      <td>...</td>\n",
              "      <td>0.5</td>\n",
              "      <td>0.6</td>\n",
              "      <td>1.6</td>\n",
              "      <td>0.7</td>\n",
              "      <td>0.8</td>\n",
              "      <td>1.7</td>\n",
              "      <td>0.9</td>\n",
              "      <td>0.10</td>\n",
              "      <td>black</td>\n",
              "      <td>green.1</td>\n",
              "    </tr>\n",
              "    <tr>\n",
              "      <th>1</th>\n",
              "      <td>Albania</td>\n",
              "      <td>3</td>\n",
              "      <td>1</td>\n",
              "      <td>29</td>\n",
              "      <td>3</td>\n",
              "      <td>6</td>\n",
              "      <td>6</td>\n",
              "      <td>0</td>\n",
              "      <td>0</td>\n",
              "      <td>3</td>\n",
              "      <td>...</td>\n",
              "      <td>0</td>\n",
              "      <td>0</td>\n",
              "      <td>1</td>\n",
              "      <td>0</td>\n",
              "      <td>0</td>\n",
              "      <td>0</td>\n",
              "      <td>1</td>\n",
              "      <td>0</td>\n",
              "      <td>red</td>\n",
              "      <td>red</td>\n",
              "    </tr>\n",
              "    <tr>\n",
              "      <th>2</th>\n",
              "      <td>Algeria</td>\n",
              "      <td>4</td>\n",
              "      <td>1</td>\n",
              "      <td>2388</td>\n",
              "      <td>20</td>\n",
              "      <td>8</td>\n",
              "      <td>2</td>\n",
              "      <td>2</td>\n",
              "      <td>0</td>\n",
              "      <td>3</td>\n",
              "      <td>...</td>\n",
              "      <td>0</td>\n",
              "      <td>0</td>\n",
              "      <td>1</td>\n",
              "      <td>1</td>\n",
              "      <td>0</td>\n",
              "      <td>0</td>\n",
              "      <td>0</td>\n",
              "      <td>0</td>\n",
              "      <td>green</td>\n",
              "      <td>white</td>\n",
              "    </tr>\n",
              "    <tr>\n",
              "      <th>3</th>\n",
              "      <td>American-Samoa</td>\n",
              "      <td>6</td>\n",
              "      <td>3</td>\n",
              "      <td>0</td>\n",
              "      <td>0</td>\n",
              "      <td>1</td>\n",
              "      <td>1</td>\n",
              "      <td>0</td>\n",
              "      <td>0</td>\n",
              "      <td>5</td>\n",
              "      <td>...</td>\n",
              "      <td>0</td>\n",
              "      <td>0</td>\n",
              "      <td>0</td>\n",
              "      <td>0</td>\n",
              "      <td>1</td>\n",
              "      <td>1</td>\n",
              "      <td>1</td>\n",
              "      <td>0</td>\n",
              "      <td>blue</td>\n",
              "      <td>red</td>\n",
              "    </tr>\n",
              "    <tr>\n",
              "      <th>4</th>\n",
              "      <td>Andorra</td>\n",
              "      <td>3</td>\n",
              "      <td>1</td>\n",
              "      <td>0</td>\n",
              "      <td>0</td>\n",
              "      <td>6</td>\n",
              "      <td>0</td>\n",
              "      <td>3</td>\n",
              "      <td>0</td>\n",
              "      <td>3</td>\n",
              "      <td>...</td>\n",
              "      <td>0</td>\n",
              "      <td>0</td>\n",
              "      <td>0</td>\n",
              "      <td>0</td>\n",
              "      <td>0</td>\n",
              "      <td>0</td>\n",
              "      <td>0</td>\n",
              "      <td>0</td>\n",
              "      <td>blue</td>\n",
              "      <td>red</td>\n",
              "    </tr>\n",
              "    <tr>\n",
              "      <th>...</th>\n",
              "      <td>...</td>\n",
              "      <td>...</td>\n",
              "      <td>...</td>\n",
              "      <td>...</td>\n",
              "      <td>...</td>\n",
              "      <td>...</td>\n",
              "      <td>...</td>\n",
              "      <td>...</td>\n",
              "      <td>...</td>\n",
              "      <td>...</td>\n",
              "      <td>...</td>\n",
              "      <td>...</td>\n",
              "      <td>...</td>\n",
              "      <td>...</td>\n",
              "      <td>...</td>\n",
              "      <td>...</td>\n",
              "      <td>...</td>\n",
              "      <td>...</td>\n",
              "      <td>...</td>\n",
              "      <td>...</td>\n",
              "      <td>...</td>\n",
              "    </tr>\n",
              "    <tr>\n",
              "      <th>189</th>\n",
              "      <td>Western-Samoa</td>\n",
              "      <td>6</td>\n",
              "      <td>3</td>\n",
              "      <td>3</td>\n",
              "      <td>0</td>\n",
              "      <td>1</td>\n",
              "      <td>1</td>\n",
              "      <td>0</td>\n",
              "      <td>0</td>\n",
              "      <td>3</td>\n",
              "      <td>...</td>\n",
              "      <td>0</td>\n",
              "      <td>1</td>\n",
              "      <td>5</td>\n",
              "      <td>0</td>\n",
              "      <td>0</td>\n",
              "      <td>0</td>\n",
              "      <td>0</td>\n",
              "      <td>0</td>\n",
              "      <td>blue</td>\n",
              "      <td>red</td>\n",
              "    </tr>\n",
              "    <tr>\n",
              "      <th>190</th>\n",
              "      <td>Yugoslavia</td>\n",
              "      <td>3</td>\n",
              "      <td>1</td>\n",
              "      <td>256</td>\n",
              "      <td>22</td>\n",
              "      <td>6</td>\n",
              "      <td>6</td>\n",
              "      <td>0</td>\n",
              "      <td>3</td>\n",
              "      <td>4</td>\n",
              "      <td>...</td>\n",
              "      <td>0</td>\n",
              "      <td>0</td>\n",
              "      <td>1</td>\n",
              "      <td>0</td>\n",
              "      <td>0</td>\n",
              "      <td>0</td>\n",
              "      <td>0</td>\n",
              "      <td>0</td>\n",
              "      <td>blue</td>\n",
              "      <td>red</td>\n",
              "    </tr>\n",
              "    <tr>\n",
              "      <th>191</th>\n",
              "      <td>Zaire</td>\n",
              "      <td>4</td>\n",
              "      <td>2</td>\n",
              "      <td>905</td>\n",
              "      <td>28</td>\n",
              "      <td>10</td>\n",
              "      <td>5</td>\n",
              "      <td>0</td>\n",
              "      <td>0</td>\n",
              "      <td>4</td>\n",
              "      <td>...</td>\n",
              "      <td>0</td>\n",
              "      <td>0</td>\n",
              "      <td>0</td>\n",
              "      <td>0</td>\n",
              "      <td>0</td>\n",
              "      <td>1</td>\n",
              "      <td>1</td>\n",
              "      <td>0</td>\n",
              "      <td>green</td>\n",
              "      <td>green</td>\n",
              "    </tr>\n",
              "    <tr>\n",
              "      <th>192</th>\n",
              "      <td>Zambia</td>\n",
              "      <td>4</td>\n",
              "      <td>2</td>\n",
              "      <td>753</td>\n",
              "      <td>6</td>\n",
              "      <td>10</td>\n",
              "      <td>5</td>\n",
              "      <td>3</td>\n",
              "      <td>0</td>\n",
              "      <td>4</td>\n",
              "      <td>...</td>\n",
              "      <td>0</td>\n",
              "      <td>0</td>\n",
              "      <td>0</td>\n",
              "      <td>0</td>\n",
              "      <td>0</td>\n",
              "      <td>0</td>\n",
              "      <td>1</td>\n",
              "      <td>0</td>\n",
              "      <td>green</td>\n",
              "      <td>brown</td>\n",
              "    </tr>\n",
              "    <tr>\n",
              "      <th>193</th>\n",
              "      <td>Zimbabwe</td>\n",
              "      <td>4</td>\n",
              "      <td>2</td>\n",
              "      <td>391</td>\n",
              "      <td>8</td>\n",
              "      <td>10</td>\n",
              "      <td>5</td>\n",
              "      <td>0</td>\n",
              "      <td>7</td>\n",
              "      <td>5</td>\n",
              "      <td>...</td>\n",
              "      <td>0</td>\n",
              "      <td>0</td>\n",
              "      <td>1</td>\n",
              "      <td>0</td>\n",
              "      <td>1</td>\n",
              "      <td>1</td>\n",
              "      <td>1</td>\n",
              "      <td>0</td>\n",
              "      <td>green</td>\n",
              "      <td>green</td>\n",
              "    </tr>\n",
              "  </tbody>\n",
              "</table>\n",
              "<p>194 rows × 30 columns</p>\n",
              "</div>\n",
              "      <button class=\"colab-df-convert\" onclick=\"convertToInteractive('df-45cee509-3dbb-48a5-b6ee-46e419cdef90')\"\n",
              "              title=\"Convert this dataframe to an interactive table.\"\n",
              "              style=\"display:none;\">\n",
              "        \n",
              "  <svg xmlns=\"http://www.w3.org/2000/svg\" height=\"24px\"viewBox=\"0 0 24 24\"\n",
              "       width=\"24px\">\n",
              "    <path d=\"M0 0h24v24H0V0z\" fill=\"none\"/>\n",
              "    <path d=\"M18.56 5.44l.94 2.06.94-2.06 2.06-.94-2.06-.94-.94-2.06-.94 2.06-2.06.94zm-11 1L8.5 8.5l.94-2.06 2.06-.94-2.06-.94L8.5 2.5l-.94 2.06-2.06.94zm10 10l.94 2.06.94-2.06 2.06-.94-2.06-.94-.94-2.06-.94 2.06-2.06.94z\"/><path d=\"M17.41 7.96l-1.37-1.37c-.4-.4-.92-.59-1.43-.59-.52 0-1.04.2-1.43.59L10.3 9.45l-7.72 7.72c-.78.78-.78 2.05 0 2.83L4 21.41c.39.39.9.59 1.41.59.51 0 1.02-.2 1.41-.59l7.78-7.78 2.81-2.81c.8-.78.8-2.07 0-2.86zM5.41 20L4 18.59l7.72-7.72 1.47 1.35L5.41 20z\"/>\n",
              "  </svg>\n",
              "      </button>\n",
              "      \n",
              "  <style>\n",
              "    .colab-df-container {\n",
              "      display:flex;\n",
              "      flex-wrap:wrap;\n",
              "      gap: 12px;\n",
              "    }\n",
              "\n",
              "    .colab-df-convert {\n",
              "      background-color: #E8F0FE;\n",
              "      border: none;\n",
              "      border-radius: 50%;\n",
              "      cursor: pointer;\n",
              "      display: none;\n",
              "      fill: #1967D2;\n",
              "      height: 32px;\n",
              "      padding: 0 0 0 0;\n",
              "      width: 32px;\n",
              "    }\n",
              "\n",
              "    .colab-df-convert:hover {\n",
              "      background-color: #E2EBFA;\n",
              "      box-shadow: 0px 1px 2px rgba(60, 64, 67, 0.3), 0px 1px 3px 1px rgba(60, 64, 67, 0.15);\n",
              "      fill: #174EA6;\n",
              "    }\n",
              "\n",
              "    [theme=dark] .colab-df-convert {\n",
              "      background-color: #3B4455;\n",
              "      fill: #D2E3FC;\n",
              "    }\n",
              "\n",
              "    [theme=dark] .colab-df-convert:hover {\n",
              "      background-color: #434B5C;\n",
              "      box-shadow: 0px 1px 3px 1px rgba(0, 0, 0, 0.15);\n",
              "      filter: drop-shadow(0px 1px 2px rgba(0, 0, 0, 0.3));\n",
              "      fill: #FFFFFF;\n",
              "    }\n",
              "  </style>\n",
              "\n",
              "      <script>\n",
              "        const buttonEl =\n",
              "          document.querySelector('#df-45cee509-3dbb-48a5-b6ee-46e419cdef90 button.colab-df-convert');\n",
              "        buttonEl.style.display =\n",
              "          google.colab.kernel.accessAllowed ? 'block' : 'none';\n",
              "\n",
              "        async function convertToInteractive(key) {\n",
              "          const element = document.querySelector('#df-45cee509-3dbb-48a5-b6ee-46e419cdef90');\n",
              "          const dataTable =\n",
              "            await google.colab.kernel.invokeFunction('convertToInteractive',\n",
              "                                                     [key], {});\n",
              "          if (!dataTable) return;\n",
              "\n",
              "          const docLinkHtml = 'Like what you see? Visit the ' +\n",
              "            '<a target=\"_blank\" href=https://colab.research.google.com/notebooks/data_table.ipynb>data table notebook</a>'\n",
              "            + ' to learn more about interactive tables.';\n",
              "          element.innerHTML = '';\n",
              "          dataTable['output_type'] = 'display_data';\n",
              "          await google.colab.output.renderOutput(dataTable, element);\n",
              "          const docLink = document.createElement('div');\n",
              "          docLink.innerHTML = docLinkHtml;\n",
              "          element.appendChild(docLink);\n",
              "        }\n",
              "      </script>\n",
              "    </div>\n",
              "  </div>\n",
              "  "
            ],
            "text/plain": [
              "               name landmass zone  area population language religion bars  \\\n",
              "0       Afghanistan        5    1   648         16       10        2    0   \n",
              "1           Albania        3    1    29          3        6        6    0   \n",
              "2           Algeria        4    1  2388         20        8        2    2   \n",
              "3    American-Samoa        6    3     0          0        1        1    0   \n",
              "4           Andorra        3    1     0          0        6        0    3   \n",
              "..              ...      ...  ...   ...        ...      ...      ...  ...   \n",
              "189   Western-Samoa        6    3     3          0        1        1    0   \n",
              "190      Yugoslavia        3    1   256         22        6        6    0   \n",
              "191           Zaire        4    2   905         28       10        5    0   \n",
              "192          Zambia        4    2   753          6       10        5    3   \n",
              "193        Zimbabwe        4    2   391          8       10        5    0   \n",
              "\n",
              "    stripes colors  ... saltires quarters sunstars crescent triangle icon  \\\n",
              "0         3    5.1  ...      0.5      0.6      1.6      0.7      0.8  1.7   \n",
              "1         0      3  ...        0        0        1        0        0    0   \n",
              "2         0      3  ...        0        0        1        1        0    0   \n",
              "3         0      5  ...        0        0        0        0        1    1   \n",
              "4         0      3  ...        0        0        0        0        0    0   \n",
              "..      ...    ...  ...      ...      ...      ...      ...      ...  ...   \n",
              "189       0      3  ...        0        1        5        0        0    0   \n",
              "190       3      4  ...        0        0        1        0        0    0   \n",
              "191       0      4  ...        0        0        0        0        0    1   \n",
              "192       0      4  ...        0        0        0        0        0    0   \n",
              "193       7      5  ...        0        0        1        0        1    1   \n",
              "\n",
              "    animate  text topleft botright  \n",
              "0       0.9  0.10   black  green.1  \n",
              "1         1     0     red      red  \n",
              "2         0     0   green    white  \n",
              "3         1     0    blue      red  \n",
              "4         0     0    blue      red  \n",
              "..      ...   ...     ...      ...  \n",
              "189       0     0    blue      red  \n",
              "190       0     0    blue      red  \n",
              "191       1     0   green    green  \n",
              "192       1     0   green    brown  \n",
              "193       1     0   green    green  \n",
              "\n",
              "[194 rows x 30 columns]"
            ]
          },
          "execution_count": 11,
          "metadata": {},
          "output_type": "execute_result"
        }
      ],
      "source": [
        "df.columns=columns\n",
        "df"
      ]
    },
    {
      "cell_type": "markdown",
      "id": "513aa1f1",
      "metadata": {
        "id": "513aa1f1"
      },
      "source": [
        "### Function that takes a columns index as a parameter and returns the index of all non numeric values cells, and prints the cell and the value it holds in the column if non numeric cell found"
      ]
    },
    {
      "cell_type": "code",
      "execution_count": null,
      "id": "ee8b45ad",
      "metadata": {
        "id": "ee8b45ad"
      },
      "outputs": [],
      "source": [
        "def find_non_numeric(dframe,col):\n",
        "    non_numeric_index=[]\n",
        "    index=0\n",
        "    for item in dframe[dframe.columns[col]]:\n",
        "        if (type(item)!=int):\n",
        "            #print(\"Index\",index,\"is type\",type(item))\n",
        "            non_numeric_index.append(index)\n",
        "        index+=1\n",
        "    return non_numeric_index"
      ]
    },
    {
      "cell_type": "markdown",
      "id": "37c2c156",
      "metadata": {
        "id": "37c2c156"
      },
      "source": [
        "### Function that takes column index and a list of indeces and turns the indeces' cells into int datatype"
      ]
    },
    {
      "cell_type": "code",
      "execution_count": null,
      "id": "38c19467",
      "metadata": {
        "id": "38c19467"
      },
      "outputs": [],
      "source": [
        "def convert_cell_into_numeric(dframe,index_list,col):\n",
        "    for i in index_list:\n",
        "        if(type(dframe[dframe.columns[col]][i])==float):\n",
        "            continue\n",
        "        ##dont convert cells that are float into int (to prevent falsely manipulating data)\n",
        "        ##else, convert to int\n",
        "        dframe[dframe.columns[col]][i]=int(float(dframe[dframe.columns[col]][i]))\n",
        "        print(\"Converted index\",i,\"in column[\",dframe.columns[col],\"]to int\")"
      ]
    },
    {
      "cell_type": "markdown",
      "id": "58ae8bae",
      "metadata": {
        "id": "58ae8bae"
      },
      "source": [
        "### Finding out which cells in each column have non int values"
      ]
    },
    {
      "cell_type": "code",
      "execution_count": null,
      "id": "12c03057",
      "metadata": {
        "colab": {
          "base_uri": "https://localhost:8080/"
        },
        "id": "12c03057",
        "outputId": "2eb09787-96e8-47de-8e27-db2b910a49ed"
      },
      "outputs": [
        {
          "name": "stdout",
          "output_type": "stream",
          "text": [
            "[ name ]: [0, 1, 2, 3, 4, 5, 6, 7, 8, 9, 10, 11, 12, 13, 14, 15, 16, 17, 18, 19, 20, 21, 22, 23, 24, 25, 26, 27, 28, 29, 30, 31, 32, 33, 34, 35, 36, 37, 38, 39, 40, 41, 42, 43, 44, 45, 46, 47, 48, 49, 50, 51, 52, 53, 54, 55, 56, 57, 58, 59, 60, 61, 62, 63, 64, 65, 66, 67, 68, 69, 70, 71, 72, 73, 74, 75, 76, 77, 78, 79, 80, 81, 82, 83, 84, 85, 86, 87, 88, 89, 90, 91, 92, 93, 94, 95, 96, 97, 98, 99, 100, 101, 102, 103, 104, 105, 106, 107, 108, 109, 110, 111, 112, 113, 114, 115, 116, 117, 118, 119, 120, 121, 122, 123, 124, 125, 126, 127, 128, 129, 130, 131, 132, 133, 134, 135, 136, 137, 138, 139, 140, 141, 142, 143, 144, 145, 146, 147, 148, 149, 150, 151, 152, 153, 154, 155, 156, 157, 158, 159, 160, 161, 162, 163, 164, 165, 166, 167, 168, 169, 170, 171, 172, 173, 174, 175, 176, 177, 178, 179, 180, 181, 182, 183, 184, 185, 186, 187, 188, 189, 190, 191, 192, 193]\n",
            "[ landmass ]: [0]\n",
            "[ zone ]: [0]\n",
            "[ area ]: [0]\n",
            "[ population ]: [0]\n",
            "[ language ]: [0]\n",
            "[ religion ]: [0]\n",
            "[ bars ]: [0]\n",
            "[ stripes ]: [0]\n",
            "[ colors ]: [0]\n",
            "[ red ]: [0]\n",
            "[ green ]: [0]\n",
            "[ blue ]: [0]\n",
            "[ gold ]: [0]\n",
            "[ white ]: [0]\n",
            "[ black ]: [0]\n",
            "[ orange ]: [0]\n",
            "[ mainhue ]: [0, 1, 2, 3, 4, 5, 6, 7, 8, 9, 10, 11, 12, 13, 14, 15, 16, 17, 18, 19, 20, 21, 22, 23, 24, 25, 26, 27, 28, 29, 30, 31, 32, 33, 34, 35, 36, 37, 38, 39, 40, 41, 42, 43, 44, 45, 46, 47, 48, 49, 50, 51, 52, 53, 54, 55, 56, 57, 58, 59, 60, 61, 62, 63, 64, 65, 66, 67, 68, 69, 70, 71, 72, 73, 74, 75, 76, 77, 78, 79, 80, 81, 82, 83, 84, 85, 86, 87, 88, 89, 90, 91, 92, 93, 94, 95, 96, 97, 98, 99, 100, 101, 102, 103, 104, 105, 106, 107, 108, 109, 110, 111, 112, 113, 114, 115, 116, 117, 118, 119, 120, 121, 122, 123, 124, 125, 126, 127, 128, 129, 130, 131, 132, 133, 134, 135, 136, 137, 138, 139, 140, 141, 142, 143, 144, 145, 146, 147, 148, 149, 150, 151, 152, 153, 154, 155, 156, 157, 158, 159, 160, 161, 162, 163, 164, 165, 166, 167, 168, 169, 170, 171, 172, 173, 174, 175, 176, 177, 178, 179, 180, 181, 182, 183, 184, 185, 186, 187, 188, 189, 190, 191, 192, 193]\n",
            "[ circles ]: [0]\n",
            "[ crosses ]: [0]\n",
            "[ saltires ]: [0]\n",
            "[ quarters ]: [0]\n",
            "[ sunstars ]: [0]\n",
            "[ crescent ]: [0]\n",
            "[ triangle ]: [0]\n",
            "[ icon ]: [0]\n",
            "[ animate ]: [0]\n",
            "[ text ]: [0]\n",
            "[ topleft ]: [0, 1, 2, 3, 4, 5, 6, 7, 8, 9, 10, 11, 12, 13, 14, 15, 16, 17, 18, 19, 20, 21, 22, 23, 24, 25, 26, 27, 28, 29, 30, 31, 32, 33, 34, 35, 36, 37, 38, 39, 40, 41, 42, 43, 44, 45, 46, 47, 48, 49, 50, 51, 52, 53, 54, 55, 56, 57, 58, 59, 60, 61, 62, 63, 64, 65, 66, 67, 68, 69, 70, 71, 72, 73, 74, 75, 76, 77, 78, 79, 80, 81, 82, 83, 84, 85, 86, 87, 88, 89, 90, 91, 92, 93, 94, 95, 96, 97, 98, 99, 100, 101, 102, 103, 104, 105, 106, 107, 108, 109, 110, 111, 112, 113, 114, 115, 116, 117, 118, 119, 120, 121, 122, 123, 124, 125, 126, 127, 128, 129, 130, 131, 132, 133, 134, 135, 136, 137, 138, 139, 140, 141, 142, 143, 144, 145, 146, 147, 148, 149, 150, 151, 152, 153, 154, 155, 156, 157, 158, 159, 160, 161, 162, 163, 164, 165, 166, 167, 168, 169, 170, 171, 172, 173, 174, 175, 176, 177, 178, 179, 180, 181, 182, 183, 184, 185, 186, 187, 188, 189, 190, 191, 192, 193]\n",
            "[ botright ]: [0, 1, 2, 3, 4, 5, 6, 7, 8, 9, 10, 11, 12, 13, 14, 15, 16, 17, 18, 19, 20, 21, 22, 23, 24, 25, 26, 27, 28, 29, 30, 31, 32, 33, 34, 35, 36, 37, 38, 39, 40, 41, 42, 43, 44, 45, 46, 47, 48, 49, 50, 51, 52, 53, 54, 55, 56, 57, 58, 59, 60, 61, 62, 63, 64, 65, 66, 67, 68, 69, 70, 71, 72, 73, 74, 75, 76, 77, 78, 79, 80, 81, 82, 83, 84, 85, 86, 87, 88, 89, 90, 91, 92, 93, 94, 95, 96, 97, 98, 99, 100, 101, 102, 103, 104, 105, 106, 107, 108, 109, 110, 111, 112, 113, 114, 115, 116, 117, 118, 119, 120, 121, 122, 123, 124, 125, 126, 127, 128, 129, 130, 131, 132, 133, 134, 135, 136, 137, 138, 139, 140, 141, 142, 143, 144, 145, 146, 147, 148, 149, 150, 151, 152, 153, 154, 155, 156, 157, 158, 159, 160, 161, 162, 163, 164, 165, 166, 167, 168, 169, 170, 171, 172, 173, 174, 175, 176, 177, 178, 179, 180, 181, 182, 183, 184, 185, 186, 187, 188, 189, 190, 191, 192, 193]\n"
          ]
        }
      ],
      "source": [
        "for i in range(len(df.columns)):\n",
        "    print(\"[\",df.columns[i],\"]:\",find_non_numeric(df,i))"
      ]
    },
    {
      "cell_type": "markdown",
      "id": "c5904595",
      "metadata": {
        "id": "c5904595"
      },
      "source": [
        "### Converting all non numerical data to intiger, excluding columns that store string datatype by default"
      ]
    },
    {
      "cell_type": "code",
      "execution_count": null,
      "id": "f604e949",
      "metadata": {
        "colab": {
          "base_uri": "https://localhost:8080/"
        },
        "id": "f604e949",
        "outputId": "232d5c49-f40e-4b6f-f7b1-b55320e717de"
      },
      "outputs": [
        {
          "name": "stdout",
          "output_type": "stream",
          "text": [
            "Converted index 0 in column[ landmass ]to int\n",
            "Converted index 0 in column[ zone ]to int\n",
            "Converted index 0 in column[ area ]to int\n",
            "Converted index 0 in column[ population ]to int\n",
            "Converted index 0 in column[ language ]to int\n",
            "Converted index 0 in column[ religion ]to int\n",
            "Converted index 0 in column[ bars ]to int\n",
            "Converted index 0 in column[ stripes ]to int\n",
            "Converted index 0 in column[ colors ]to int\n",
            "Converted index 0 in column[ red ]to int\n",
            "Converted index 0 in column[ green ]to int\n",
            "Converted index 0 in column[ blue ]to int\n",
            "Converted index 0 in column[ gold ]to int\n",
            "Converted index 0 in column[ white ]to int\n",
            "Converted index 0 in column[ black ]to int\n",
            "Converted index 0 in column[ orange ]to int\n",
            "Converted index 0 in column[ circles ]to int\n",
            "Converted index 0 in column[ crosses ]to int\n",
            "Converted index 0 in column[ saltires ]to int\n",
            "Converted index 0 in column[ quarters ]to int\n",
            "Converted index 0 in column[ sunstars ]to int\n",
            "Converted index 0 in column[ crescent ]to int\n",
            "Converted index 0 in column[ triangle ]to int\n",
            "Converted index 0 in column[ icon ]to int\n",
            "Converted index 0 in column[ animate ]to int\n",
            "Converted index 0 in column[ text ]to int\n"
          ]
        }
      ],
      "source": [
        "modified_df=df.drop(columns=['name','mainhue','topleft','botright'])\n",
        "for i in range(0,len(modified_df.columns)):\n",
        "    convert_cell_into_numeric(modified_df,find_non_numeric(modified_df,i),i)"
      ]
    },
    {
      "cell_type": "markdown",
      "id": "a3f4ea57",
      "metadata": {
        "id": "a3f4ea57"
      },
      "source": [
        "#### After reading the flag.name file (which descibes the dataset) I came to conclusion that drawing a heatmap would be beneficial to understand the data further; obviously some of the columns need some preprocessing before passing them into the heatmap function.."
      ]
    },
    {
      "cell_type": "code",
      "execution_count": null,
      "id": "d7192ba8",
      "metadata": {
        "colab": {
          "base_uri": "https://localhost:8080/"
        },
        "id": "d7192ba8",
        "outputId": "8a20f912-9372-4fbd-dadc-6d8a9a7311f9",
        "scrolled": true
      },
      "outputs": [
        {
          "data": {
            "text/plain": [
              "1    60\n",
              "0    40\n",
              "2    35\n",
              "5    27\n",
              "6    15\n",
              "3     8\n",
              "4     4\n",
              "7     4\n",
              "2     1\n",
              "Name: religion, dtype: int64"
            ]
          },
          "execution_count": 16,
          "metadata": {},
          "output_type": "execute_result"
        }
      ],
      "source": [
        "heatmap_columns=['zone','population','language','religion','mainhue']\n",
        "df['religion'].value_counts()\n",
        "#for col in heatmap_columns:\n",
        "#   print(\"Column[\",col,\"]\\n\",df[col].value_counts())"
      ]
    },
    {
      "cell_type": "markdown",
      "id": "48f026c9",
      "metadata": {
        "id": "48f026c9"
      },
      "source": [
        "### Handeling noisy data in the boolean columns\n",
        "#### I will consider cells that have values more than 0.5 a 1, else is 0\n",
        "#### Note that this might not be the best way to handle the noisy data, but I this is the only logical method that I can think of"
      ]
    },
    {
      "cell_type": "code",
      "execution_count": null,
      "id": "0e3d7ef6",
      "metadata": {
        "id": "0e3d7ef6"
      },
      "outputs": [],
      "source": [
        "def remove_noise_from_bool_cols(dframe,col):\n",
        "    for i in range(dframe[col].count()):\n",
        "        if (dframe[col][i]<0.5):\n",
        "            dframe[col][i]=0\n",
        "        else:\n",
        "            dframe[col][i]=1\n",
        "###Impleneted a function to prevent code repetition, again.."
      ]
    },
    {
      "cell_type": "code",
      "execution_count": null,
      "id": "594ee0c7",
      "metadata": {
        "colab": {
          "base_uri": "https://localhost:8080/"
        },
        "id": "594ee0c7",
        "outputId": "ea7dd098-9446-4e1f-e233-c3c20155d1c1"
      },
      "outputs": [
        {
          "name": "stdout",
          "output_type": "stream",
          "text": [
            "1    153\n",
            "0     41\n",
            "Name: red, dtype: int64\n",
            "0    103\n",
            "1     91\n",
            "Name: green, dtype: int64\n",
            "1    99\n",
            "0    95\n",
            "Name: blue, dtype: int64\n",
            "0    103\n",
            "1     91\n",
            "Name: gold, dtype: int64\n",
            "1    146\n",
            "0     48\n",
            "Name: white, dtype: int64\n",
            "0    142\n",
            "1     52\n",
            "Name: black, dtype: int64\n",
            "0    168\n",
            "1     26\n",
            "Name: orange, dtype: int64\n",
            "0    183\n",
            "1     11\n",
            "Name: crescent, dtype: int64\n",
            "0    167\n",
            "1     27\n",
            "Name: triangle, dtype: int64\n",
            "0    145\n",
            "1     49\n",
            "Name: icon, dtype: int64\n",
            "0    155\n",
            "1     39\n",
            "Name: animate, dtype: int64\n",
            "0    178\n",
            "1     16\n",
            "Name: text, dtype: int64\n"
          ]
        }
      ],
      "source": [
        "for col_name in [\"red\",\"green\",\"blue\",\"gold\",\"white\",\"black\",\"orange\",\"crescent\",\"triangle\",\"icon\",\"animate\",\"text\"]:\n",
        "    remove_noise_from_bool_cols(modified_df,col_name)\n",
        "    print(modified_df[col_name].value_counts())\n"
      ]
    },
    {
      "cell_type": "markdown",
      "id": "4ba5c542",
      "metadata": {
        "id": "4ba5c542"
      },
      "source": [
        "### Drawing heatmap using seaborn library"
      ]
    },
    {
      "cell_type": "markdown",
      "id": "fcf19574",
      "metadata": {
        "id": "fcf19574"
      },
      "source": [
        "#### a. by using correlation"
      ]
    },
    {
      "cell_type": "code",
      "execution_count": null,
      "id": "46ddb6a6",
      "metadata": {
        "colab": {
          "base_uri": "https://localhost:8080/",
          "height": 764
        },
        "id": "46ddb6a6",
        "outputId": "ca84f61f-105f-4d2c-9221-be9101c83dec"
      },
      "outputs": [
        {
          "data": {
            "text/plain": [
              "<matplotlib.axes._subplots.AxesSubplot at 0x7fc0e7e0a310>"
            ]
          },
          "execution_count": 19,
          "metadata": {},
          "output_type": "execute_result"
        },
        {
          "data": {
            "image/png": "[encoded data removed]",
            "text/plain": [
              "<Figure size 864x864 with 2 Axes>"
            ]
          },
          "metadata": {
            "needs_background": "light"
          },
          "output_type": "display_data"
        }
      ],
      "source": [
        "df_matrix = modified_df.astype(float).corr()\n",
        "plt.figure(figsize = (12,12))\n",
        "sns.heatmap(df_matrix,annot_kws={'size': 9})"
      ]
    },
    {
      "cell_type": "markdown",
      "id": "d72d14b7",
      "metadata": {
        "id": "d72d14b7"
      },
      "source": [
        "#### b. by using pivot tables (two way tables)"
      ]
    },
    {
      "cell_type": "code",
      "execution_count": null,
      "id": "52403cf7",
      "metadata": {
        "colab": {
          "base_uri": "https://localhost:8080/",
          "height": 319
        },
        "id": "52403cf7",
        "outputId": "dc4f420a-d04b-4785-abdd-c4b3dca0224e"
      },
      "outputs": [
        {
          "data": {
            "text/plain": [
              "<matplotlib.axes._subplots.AxesSubplot at 0x7fc0e54a2220>"
            ]
          },
          "execution_count": 20,
          "metadata": {},
          "output_type": "execute_result"
        },
        {
          "data": {
            "image/png": "[encoded data removed]",
            "text/plain": [
              "<Figure size 432x288 with 2 Axes>"
            ]
          },
          "metadata": {
            "needs_background": "light"
          },
          "output_type": "display_data"
        }
      ],
      "source": [
        "### I've decided to not create a function here, the code needed for each heatmap is a oneline after all\n",
        "### Other than the fact that I will need to call the function once in each cell (without the using of for loops)\n",
        "### Because each cell will display only one drawing/heatmap\n",
        "sns.heatmap(pd.pivot_table(data=modified_df.drop([\"landmass\",\"area\",\"population\",\"language\",\"zone\"],axis=1),index=['religion']))\n",
        "#Reading the heatmap tells us that religion 3 \"Buddhist\" countries has the greatest number of sunstars in thier flags (around 3 on average)\n",
        "#and after that comes the other christian (non catholic) countries, on average they have 2.5~ sunstars on each of their flags\n",
        "#for the Ethnic countries, it apprears that the have the most amount of stripes in the flags.. and the rest of religions appear to be in the same average range\n",
        "#religion 1 and 4, (other christian/non catholic and hindu) countries appear to have the most colorful (or the most amount of colors) in their flags"
      ]
    },
    {
      "cell_type": "code",
      "execution_count": null,
      "id": "2ef3729f",
      "metadata": {
        "colab": {
          "base_uri": "https://localhost:8080/",
          "height": 315
        },
        "id": "2ef3729f",
        "outputId": "e716a01f-8e78-439e-8dbb-58198601bbb2"
      },
      "outputs": [
        {
          "data": {
            "text/plain": [
              "<matplotlib.axes._subplots.AxesSubplot at 0x7fc0e5513220>"
            ]
          },
          "execution_count": 21,
          "metadata": {},
          "output_type": "execute_result"
        },
        {
          "data": {
            "image/png": "[encoded data removed]",
            "text/plain": [
              "<Figure size 432x288 with 2 Axes>"
            ]
          },
          "metadata": {
            "needs_background": "light"
          },
          "output_type": "display_data"
        }
      ],
      "source": [
        "#landmass: 1=N.America, 2=S.America, 3=Europe, 4=Africa, 4=Asia, 6=Oceania\n",
        "sns.heatmap(pd.pivot_table(data=modified_df.drop([\"area\",\"population\",\"language\",\"zone\"],axis=1),index=['landmass']))\n",
        "#the heatmap implies that countries in North America and Oceania have the most amount of colors present in thier flags\n",
        "#studying the relation between landmass and religion in the heatmap would be useless since the function computes the average of the instances per each landmass value\n",
        "#Countries in South america has the most number of stripes in their flags on average and vice versa for Oceania countries\n",
        "#(Oceania countries have the least number of stripes present in their flags, on average as well..)\n",
        "#Oceania countries also have the most number of sunstars present in their flags..\n"
      ]
    },
    {
      "cell_type": "code",
      "execution_count": null,
      "id": "b3ae5f1e",
      "metadata": {
        "colab": {
          "base_uri": "https://localhost:8080/",
          "height": 317
        },
        "id": "b3ae5f1e",
        "outputId": "fc52fce5-06ed-47a1-e3a0-89151f355a00"
      },
      "outputs": [
        {
          "data": {
            "text/plain": [
              "<matplotlib.axes._subplots.AxesSubplot at 0x7fc0e4ef03d0>"
            ]
          },
          "execution_count": 22,
          "metadata": {},
          "output_type": "execute_result"
        },
        {
          "data": {
            "image/png": "[encoded data removed]",
            "text/plain": [
              "<Figure size 432x288 with 2 Axes>"
            ]
          },
          "metadata": {
            "needs_background": "light"
          },
          "output_type": "display_data"
        }
      ],
      "source": [
        "#language 1=English, 2=Spanish, 3=French, 4=German, 5=Slavic, 6=Other Indo-European\n",
        "#         7=Chinese, 8=Arabic, 9=Japanese/Turkish/Finnish/Magyar, 10=Others\n",
        "\n",
        "###Note that I dropped the colors column here because It's making the scale values increase.\n",
        "###And by that reading the other columns in the heatmap is harder because their values are\n",
        "###relatively close to each other on the heatmap scale\n",
        "\n",
        "sns.heatmap(pd.pivot_table(data=modified_df.drop([\"area\",\"population\",\"zone\",\"landmass\",\"religion\",\"colors\"],axis=1),index=['language']))\n",
        "#First thing you can notice is that french countries are the only ones with the high average of bars present in their flag..\n",
        "#And spanish countries have the MOST number of stripes preset in their countries,\n",
        "#for English and Chinese countries, their flags clearly appear to be having more sunstars than the non English or non Chinese speaking countries.."
      ]
    },
    {
      "cell_type": "markdown",
      "id": "O_Z6fD0c9IBM",
      "metadata": {
        "id": "O_Z6fD0c9IBM"
      },
      "source": [
        "# finding the max and min for some features"
      ]
    },
    {
      "cell_type": "code",
      "execution_count": null,
      "id": "y0lX9WSX9Pz6",
      "metadata": {
        "colab": {
          "base_uri": "https://localhost:8080/",
          "height": 226
        },
        "id": "y0lX9WSX9Pz6",
        "outputId": "6acb9294-5768-41ce-d4ca-ddb257980773"
      },
      "outputs": [
        {
          "name": "stdout",
          "output_type": "stream",
          "text": [
            "max_values    22402\n",
            "min_values        0\n",
            "Name: area, dtype: int64\n"
          ]
        },
        {
          "data": {
            "text/html": [
              "\n",
              "  <div id=\"df-9f29b1ba-123d-49b4-bc23-4277612bed75\">\n",
              "    <div class=\"colab-df-container\">\n",
              "      <div>\n",
              "<style scoped>\n",
              "    .dataframe tbody tr th:only-of-type {\n",
              "        vertical-align: middle;\n",
              "    }\n",
              "\n",
              "    .dataframe tbody tr th {\n",
              "        vertical-align: top;\n",
              "    }\n",
              "\n",
              "    .dataframe thead th {\n",
              "        text-align: right;\n",
              "    }\n",
              "</style>\n",
              "<table border=\"1\" class=\"dataframe\">\n",
              "  <thead>\n",
              "    <tr style=\"text-align: right;\">\n",
              "      <th></th>\n",
              "      <th>landmass</th>\n",
              "      <th>zone</th>\n",
              "      <th>area</th>\n",
              "      <th>population</th>\n",
              "      <th>language</th>\n",
              "      <th>religion</th>\n",
              "      <th>bars</th>\n",
              "      <th>stripes</th>\n",
              "      <th>colors</th>\n",
              "      <th>red</th>\n",
              "      <th>...</th>\n",
              "      <th>circles</th>\n",
              "      <th>crosses</th>\n",
              "      <th>saltires</th>\n",
              "      <th>quarters</th>\n",
              "      <th>sunstars</th>\n",
              "      <th>crescent</th>\n",
              "      <th>triangle</th>\n",
              "      <th>icon</th>\n",
              "      <th>animate</th>\n",
              "      <th>text</th>\n",
              "    </tr>\n",
              "  </thead>\n",
              "  <tbody>\n",
              "    <tr>\n",
              "      <th>37</th>\n",
              "      <td>5</td>\n",
              "      <td>1</td>\n",
              "      <td>9561</td>\n",
              "      <td>1008</td>\n",
              "      <td>7</td>\n",
              "      <td>6</td>\n",
              "      <td>0</td>\n",
              "      <td>0</td>\n",
              "      <td>2</td>\n",
              "      <td>1</td>\n",
              "      <td>...</td>\n",
              "      <td>0</td>\n",
              "      <td>0</td>\n",
              "      <td>0</td>\n",
              "      <td>0</td>\n",
              "      <td>5</td>\n",
              "      <td>0</td>\n",
              "      <td>0</td>\n",
              "      <td>0</td>\n",
              "      <td>0</td>\n",
              "      <td>0</td>\n",
              "    </tr>\n",
              "  </tbody>\n",
              "</table>\n",
              "<p>1 rows × 26 columns</p>\n",
              "</div>\n",
              "      <button class=\"colab-df-convert\" onclick=\"convertToInteractive('df-9f29b1ba-123d-49b4-bc23-4277612bed75')\"\n",
              "              title=\"Convert this dataframe to an interactive table.\"\n",
              "              style=\"display:none;\">\n",
              "        \n",
              "  <svg xmlns=\"http://www.w3.org/2000/svg\" height=\"24px\"viewBox=\"0 0 24 24\"\n",
              "       width=\"24px\">\n",
              "    <path d=\"M0 0h24v24H0V0z\" fill=\"none\"/>\n",
              "    <path d=\"M18.56 5.44l.94 2.06.94-2.06 2.06-.94-2.06-.94-.94-2.06-.94 2.06-2.06.94zm-11 1L8.5 8.5l.94-2.06 2.06-.94-2.06-.94L8.5 2.5l-.94 2.06-2.06.94zm10 10l.94 2.06.94-2.06 2.06-.94-2.06-.94-.94-2.06-.94 2.06-2.06.94z\"/><path d=\"M17.41 7.96l-1.37-1.37c-.4-.4-.92-.59-1.43-.59-.52 0-1.04.2-1.43.59L10.3 9.45l-7.72 7.72c-.78.78-.78 2.05 0 2.83L4 21.41c.39.39.9.59 1.41.59.51 0 1.02-.2 1.41-.59l7.78-7.78 2.81-2.81c.8-.78.8-2.07 0-2.86zM5.41 20L4 18.59l7.72-7.72 1.47 1.35L5.41 20z\"/>\n",
              "  </svg>\n",
              "      </button>\n",
              "      \n",
              "  <style>\n",
              "    .colab-df-container {\n",
              "      display:flex;\n",
              "      flex-wrap:wrap;\n",
              "      gap: 12px;\n",
              "    }\n",
              "\n",
              "    .colab-df-convert {\n",
              "      background-color: #E8F0FE;\n",
              "      border: none;\n",
              "      border-radius: 50%;\n",
              "      cursor: pointer;\n",
              "      display: none;\n",
              "      fill: #1967D2;\n",
              "      height: 32px;\n",
              "      padding: 0 0 0 0;\n",
              "      width: 32px;\n",
              "    }\n",
              "\n",
              "    .colab-df-convert:hover {\n",
              "      background-color: #E2EBFA;\n",
              "      box-shadow: 0px 1px 2px rgba(60, 64, 67, 0.3), 0px 1px 3px 1px rgba(60, 64, 67, 0.15);\n",
              "      fill: #174EA6;\n",
              "    }\n",
              "\n",
              "    [theme=dark] .colab-df-convert {\n",
              "      background-color: #3B4455;\n",
              "      fill: #D2E3FC;\n",
              "    }\n",
              "\n",
              "    [theme=dark] .colab-df-convert:hover {\n",
              "      background-color: #434B5C;\n",
              "      box-shadow: 0px 1px 3px 1px rgba(0, 0, 0, 0.15);\n",
              "      filter: drop-shadow(0px 1px 2px rgba(0, 0, 0, 0.3));\n",
              "      fill: #FFFFFF;\n",
              "    }\n",
              "  </style>\n",
              "\n",
              "      <script>\n",
              "        const buttonEl =\n",
              "          document.querySelector('#df-9f29b1ba-123d-49b4-bc23-4277612bed75 button.colab-df-convert');\n",
              "        buttonEl.style.display =\n",
              "          google.colab.kernel.accessAllowed ? 'block' : 'none';\n",
              "\n",
              "        async function convertToInteractive(key) {\n",
              "          const element = document.querySelector('#df-9f29b1ba-123d-49b4-bc23-4277612bed75');\n",
              "          const dataTable =\n",
              "            await google.colab.kernel.invokeFunction('convertToInteractive',\n",
              "                                                     [key], {});\n",
              "          if (!dataTable) return;\n",
              "\n",
              "          const docLinkHtml = 'Like what you see? Visit the ' +\n",
              "            '<a target=\"_blank\" href=https://colab.research.google.com/notebooks/data_table.ipynb>data table notebook</a>'\n",
              "            + ' to learn more about interactive tables.';\n",
              "          element.innerHTML = '';\n",
              "          dataTable['output_type'] = 'display_data';\n",
              "          await google.colab.output.renderOutput(dataTable, element);\n",
              "          const docLink = document.createElement('div');\n",
              "          docLink.innerHTML = docLinkHtml;\n",
              "          element.appendChild(docLink);\n",
              "        }\n",
              "      </script>\n",
              "    </div>\n",
              "  </div>\n",
              "  "
            ],
            "text/plain": [
              "   landmass zone  area population language religion bars stripes colors red  \\\n",
              "37        5    1  9561       1008        7        6    0       0      2   1   \n",
              "\n",
              "    ... circles crosses saltires quarters sunstars crescent triangle icon  \\\n",
              "37  ...       0       0        0        0        5        0        0    0   \n",
              "\n",
              "   animate text  \n",
              "37       0    0  \n",
              "\n",
              "[1 rows x 26 columns]"
            ]
          },
          "execution_count": 77,
          "metadata": {},
          "output_type": "execute_result"
        }
      ],
      "source": [
        "# it would be useful to know the maximum and the minimum number for the numeric features.\n",
        "print(modified_df['area'].agg({'max_values':max,'min_values':min}))\n",
        "max_value=modified_df['area'].max() # finding the maximum area between the countries\n",
        "modified_df.loc[(modified_df['area']==max_value)] # finding out which country has the largest area\n",
        "max_value1=modified_df['population'].max()\n",
        "modified_df.loc[(modified_df['population']==max_value1)] # finding out which country has the largest population\n",
        "# we do the same thing for the minimum and other numeric values e.g crosses, circles, quarters,saltires\n"
      ]
    },
    {
      "cell_type": "code",
      "execution_count": null,
      "id": "zaKJupby21L4",
      "metadata": {
        "colab": {
          "base_uri": "https://localhost:8080/",
          "height": 268
        },
        "id": "zaKJupby21L4",
        "outputId": "48fc4e48-92cf-42dc-80c6-5e027d4fd311"
      },
      "outputs": [
        {
          "data": {
            "text/html": [
              "\n",
              "  <div id=\"df-9e67175b-9662-43dd-89ee-6d91f6f2fd5a\">\n",
              "    <div class=\"colab-df-container\">\n",
              "      <div>\n",
              "<style scoped>\n",
              "    .dataframe tbody tr th:only-of-type {\n",
              "        vertical-align: middle;\n",
              "    }\n",
              "\n",
              "    .dataframe tbody tr th {\n",
              "        vertical-align: top;\n",
              "    }\n",
              "\n",
              "    .dataframe thead th {\n",
              "        text-align: right;\n",
              "    }\n",
              "</style>\n",
              "<table border=\"1\" class=\"dataframe\">\n",
              "  <thead>\n",
              "    <tr style=\"text-align: right;\">\n",
              "      <th></th>\n",
              "      <th>name</th>\n",
              "      <th>landmass</th>\n",
              "      <th>zone</th>\n",
              "      <th>area</th>\n",
              "      <th>population</th>\n",
              "      <th>language</th>\n",
              "      <th>religion</th>\n",
              "      <th>bars</th>\n",
              "      <th>stripes</th>\n",
              "      <th>colors</th>\n",
              "      <th>...</th>\n",
              "      <th>saltires</th>\n",
              "      <th>quarters</th>\n",
              "      <th>sunstars</th>\n",
              "      <th>crescent</th>\n",
              "      <th>triangle</th>\n",
              "      <th>icon</th>\n",
              "      <th>animate</th>\n",
              "      <th>text</th>\n",
              "      <th>topleft</th>\n",
              "      <th>botright</th>\n",
              "    </tr>\n",
              "  </thead>\n",
              "  <tbody>\n",
              "    <tr>\n",
              "      <th>count</th>\n",
              "      <td>194</td>\n",
              "      <td>194</td>\n",
              "      <td>194</td>\n",
              "      <td>194</td>\n",
              "      <td>194</td>\n",
              "      <td>194</td>\n",
              "      <td>194</td>\n",
              "      <td>194</td>\n",
              "      <td>194</td>\n",
              "      <td>194</td>\n",
              "      <td>...</td>\n",
              "      <td>194</td>\n",
              "      <td>194</td>\n",
              "      <td>194</td>\n",
              "      <td>194</td>\n",
              "      <td>194</td>\n",
              "      <td>194</td>\n",
              "      <td>194</td>\n",
              "      <td>194</td>\n",
              "      <td>194</td>\n",
              "      <td>194</td>\n",
              "    </tr>\n",
              "    <tr>\n",
              "      <th>unique</th>\n",
              "      <td>194</td>\n",
              "      <td>7</td>\n",
              "      <td>5</td>\n",
              "      <td>136</td>\n",
              "      <td>49</td>\n",
              "      <td>11</td>\n",
              "      <td>9</td>\n",
              "      <td>6</td>\n",
              "      <td>13</td>\n",
              "      <td>9</td>\n",
              "      <td>...</td>\n",
              "      <td>3</td>\n",
              "      <td>4</td>\n",
              "      <td>15</td>\n",
              "      <td>3</td>\n",
              "      <td>3</td>\n",
              "      <td>3</td>\n",
              "      <td>3</td>\n",
              "      <td>3</td>\n",
              "      <td>7</td>\n",
              "      <td>9</td>\n",
              "    </tr>\n",
              "    <tr>\n",
              "      <th>top</th>\n",
              "      <td>Afghanistan</td>\n",
              "      <td>4</td>\n",
              "      <td>1</td>\n",
              "      <td>0</td>\n",
              "      <td>0</td>\n",
              "      <td>10</td>\n",
              "      <td>1</td>\n",
              "      <td>0</td>\n",
              "      <td>0</td>\n",
              "      <td>3</td>\n",
              "      <td>...</td>\n",
              "      <td>0</td>\n",
              "      <td>0</td>\n",
              "      <td>0</td>\n",
              "      <td>0</td>\n",
              "      <td>0</td>\n",
              "      <td>0</td>\n",
              "      <td>0</td>\n",
              "      <td>0</td>\n",
              "      <td>red</td>\n",
              "      <td>red</td>\n",
              "    </tr>\n",
              "    <tr>\n",
              "      <th>freq</th>\n",
              "      <td>1</td>\n",
              "      <td>52</td>\n",
              "      <td>90</td>\n",
              "      <td>34</td>\n",
              "      <td>56</td>\n",
              "      <td>45</td>\n",
              "      <td>60</td>\n",
              "      <td>158</td>\n",
              "      <td>110</td>\n",
              "      <td>75</td>\n",
              "      <td>...</td>\n",
              "      <td>175</td>\n",
              "      <td>167</td>\n",
              "      <td>114</td>\n",
              "      <td>182</td>\n",
              "      <td>166</td>\n",
              "      <td>145</td>\n",
              "      <td>154</td>\n",
              "      <td>177</td>\n",
              "      <td>56</td>\n",
              "      <td>69</td>\n",
              "    </tr>\n",
              "  </tbody>\n",
              "</table>\n",
              "<p>4 rows × 30 columns</p>\n",
              "</div>\n",
              "      <button class=\"colab-df-convert\" onclick=\"convertToInteractive('df-9e67175b-9662-43dd-89ee-6d91f6f2fd5a')\"\n",
              "              title=\"Convert this dataframe to an interactive table.\"\n",
              "              style=\"display:none;\">\n",
              "        \n",
              "  <svg xmlns=\"http://www.w3.org/2000/svg\" height=\"24px\"viewBox=\"0 0 24 24\"\n",
              "       width=\"24px\">\n",
              "    <path d=\"M0 0h24v24H0V0z\" fill=\"none\"/>\n",
              "    <path d=\"M18.56 5.44l.94 2.06.94-2.06 2.06-.94-2.06-.94-.94-2.06-.94 2.06-2.06.94zm-11 1L8.5 8.5l.94-2.06 2.06-.94-2.06-.94L8.5 2.5l-.94 2.06-2.06.94zm10 10l.94 2.06.94-2.06 2.06-.94-2.06-.94-.94-2.06-.94 2.06-2.06.94z\"/><path d=\"M17.41 7.96l-1.37-1.37c-.4-.4-.92-.59-1.43-.59-.52 0-1.04.2-1.43.59L10.3 9.45l-7.72 7.72c-.78.78-.78 2.05 0 2.83L4 21.41c.39.39.9.59 1.41.59.51 0 1.02-.2 1.41-.59l7.78-7.78 2.81-2.81c.8-.78.8-2.07 0-2.86zM5.41 20L4 18.59l7.72-7.72 1.47 1.35L5.41 20z\"/>\n",
              "  </svg>\n",
              "      </button>\n",
              "      \n",
              "  <style>\n",
              "    .colab-df-container {\n",
              "      display:flex;\n",
              "      flex-wrap:wrap;\n",
              "      gap: 12px;\n",
              "    }\n",
              "\n",
              "    .colab-df-convert {\n",
              "      background-color: #E8F0FE;\n",
              "      border: none;\n",
              "      border-radius: 50%;\n",
              "      cursor: pointer;\n",
              "      display: none;\n",
              "      fill: #1967D2;\n",
              "      height: 32px;\n",
              "      padding: 0 0 0 0;\n",
              "      width: 32px;\n",
              "    }\n",
              "\n",
              "    .colab-df-convert:hover {\n",
              "      background-color: #E2EBFA;\n",
              "      box-shadow: 0px 1px 2px rgba(60, 64, 67, 0.3), 0px 1px 3px 1px rgba(60, 64, 67, 0.15);\n",
              "      fill: #174EA6;\n",
              "    }\n",
              "\n",
              "    [theme=dark] .colab-df-convert {\n",
              "      background-color: #3B4455;\n",
              "      fill: #D2E3FC;\n",
              "    }\n",
              "\n",
              "    [theme=dark] .colab-df-convert:hover {\n",
              "      background-color: #434B5C;\n",
              "      box-shadow: 0px 1px 3px 1px rgba(0, 0, 0, 0.15);\n",
              "      filter: drop-shadow(0px 1px 2px rgba(0, 0, 0, 0.3));\n",
              "      fill: #FFFFFF;\n",
              "    }\n",
              "  </style>\n",
              "\n",
              "      <script>\n",
              "        const buttonEl =\n",
              "          document.querySelector('#df-9e67175b-9662-43dd-89ee-6d91f6f2fd5a button.colab-df-convert');\n",
              "        buttonEl.style.display =\n",
              "          google.colab.kernel.accessAllowed ? 'block' : 'none';\n",
              "\n",
              "        async function convertToInteractive(key) {\n",
              "          const element = document.querySelector('#df-9e67175b-9662-43dd-89ee-6d91f6f2fd5a');\n",
              "          const dataTable =\n",
              "            await google.colab.kernel.invokeFunction('convertToInteractive',\n",
              "                                                     [key], {});\n",
              "          if (!dataTable) return;\n",
              "\n",
              "          const docLinkHtml = 'Like what you see? Visit the ' +\n",
              "            '<a target=\"_blank\" href=https://colab.research.google.com/notebooks/data_table.ipynb>data table notebook</a>'\n",
              "            + ' to learn more about interactive tables.';\n",
              "          element.innerHTML = '';\n",
              "          dataTable['output_type'] = 'display_data';\n",
              "          await google.colab.output.renderOutput(dataTable, element);\n",
              "          const docLink = document.createElement('div');\n",
              "          docLink.innerHTML = docLinkHtml;\n",
              "          element.appendChild(docLink);\n",
              "        }\n",
              "      </script>\n",
              "    </div>\n",
              "  </div>\n",
              "  "
            ],
            "text/plain": [
              "               name  landmass  zone  area  population  language  religion  \\\n",
              "count           194       194   194   194         194       194       194   \n",
              "unique          194         7     5   136          49        11         9   \n",
              "top     Afghanistan         4     1     0           0        10         1   \n",
              "freq              1        52    90    34          56        45        60   \n",
              "\n",
              "        bars  stripes  colors  ...  saltires  quarters  sunstars  crescent  \\\n",
              "count    194      194     194  ...       194       194       194       194   \n",
              "unique     6       13       9  ...         3         4        15         3   \n",
              "top        0        0       3  ...         0         0         0         0   \n",
              "freq     158      110      75  ...       175       167       114       182   \n",
              "\n",
              "        triangle  icon  animate text  topleft  botright  \n",
              "count        194   194      194  194      194       194  \n",
              "unique         3     3        3    3        7         9  \n",
              "top            0     0        0    0      red       red  \n",
              "freq         166   145      154  177       56        69  \n",
              "\n",
              "[4 rows x 30 columns]"
            ]
          },
          "execution_count": 78,
          "metadata": {},
          "output_type": "execute_result"
        }
      ],
      "source": [
        "df.describe() # describing the dataframe"
      ]
    },
    {
      "cell_type": "markdown",
      "id": "Jeee-BKLE7RH",
      "metadata": {
        "id": "Jeee-BKLE7RH"
      },
      "source": [
        "# making some visualisation for the data"
      ]
    },
    {
      "cell_type": "markdown",
      "id": "amdionJX6eLO",
      "metadata": {
        "id": "amdionJX6eLO"
      },
      "source": [
        "histogram function"
      ]
    },
    {
      "cell_type": "code",
      "execution_count": null,
      "id": "2EjmKXQG6bzi",
      "metadata": {
        "id": "2EjmKXQG6bzi"
      },
      "outputs": [],
      "source": [
        "def plt_hist(df,ft,xlabel,ylabel):\n",
        "  plt.hist(df[ft],bins=30)\n",
        "  plt.grid(True)\n",
        "  plt.xlabel(xlabel,fontsize=30,c='black')\n",
        "  plt.ylabel(ylabel,fontsize=20,c='black')\n",
        "  plt.figure(figsize=(20,20))\n",
        "  plt.show"
      ]
    },
    {
      "cell_type": "code",
      "execution_count": null,
      "id": "-Q8SMDwa6jTl",
      "metadata": {
        "colab": {
          "base_uri": "https://localhost:8080/",
          "height": 461
        },
        "id": "-Q8SMDwa6jTl",
        "outputId": "00f2df00-2408-4b58-a547-6082fe5dede0"
      },
      "outputs": [
        {
          "data": {
            "image/png": "[encoded data removed]",
            "text/plain": [
              "<Figure size 640x440 with 1 Axes>"
            ]
          },
          "metadata": {},
          "output_type": "display_data"
        },
        {
          "data": {
            "text/plain": [
              "<Figure size 1600x1600 with 0 Axes>"
            ]
          },
          "metadata": {},
          "output_type": "display_data"
        }
      ],
      "source": [
        " # this visualisation represents which continent has the most countries in it(only in our dataframe)\n",
        " # 1=N.America, 2=S.America, 3=Europe, 4=Africa, 4=Asia, 6=Oceania\n",
        "plt.style.use('ggplot')\n",
        "plt_hist(modified_df,'landmass','landmass','number of countries')\n",
        "# africa has the most countries in it\n"
      ]
    },
    {
      "cell_type": "code",
      "execution_count": null,
      "id": "6OzPDy3IG4Dz",
      "metadata": {
        "colab": {
          "base_uri": "https://localhost:8080/",
          "height": 496
        },
        "id": "6OzPDy3IG4Dz",
        "outputId": "4a1ac778-242e-4362-f476-77f3d56c1cb7"
      },
      "outputs": [
        {
          "data": {
            "image/png": "[encoded data removed]",
            "text/plain": [
              "<Figure size 640x480 with 1 Axes>"
            ]
          },
          "metadata": {},
          "output_type": "display_data"
        },
        {
          "data": {
            "text/plain": [
              "<Figure size 1600x1600 with 0 Axes>"
            ]
          },
          "metadata": {},
          "output_type": "display_data"
        }
      ],
      "source": [
        "# this visualisation represents each religion and number of countries that has this religion\n",
        "#0=Catholic, 1=Other Christian, 2=Muslim, 3=Buddhist, 4=Hindu, 5=Ethnic, 6=Marxist, 7=Others\n",
        "plt.style.use('classic')\n",
        "plt_hist(modified_df,'religion','religion','number of countries')"
      ]
    },
    {
      "cell_type": "markdown",
      "id": "bRMxlcJJ9w7O",
      "metadata": {
        "id": "bRMxlcJJ9w7O"
      },
      "source": [
        "pie function"
      ]
    },
    {
      "cell_type": "code",
      "execution_count": null,
      "id": "PbCCTlrL7opi",
      "metadata": {
        "id": "PbCCTlrL7opi"
      },
      "outputs": [],
      "source": [
        "def plt_pie(df,ft,label1,label2): # a function to make a pie visualisation\n",
        " labels=[label1,label2]\n",
        " df[ft].value_counts().plot(kind='pie',figsize=(8,8),labels=labels,autopct='%1.1f%%')"
      ]
    },
    {
      "cell_type": "code",
      "execution_count": null,
      "id": "AAWRqQJiG9iX",
      "metadata": {
        "colab": {
          "base_uri": "https://localhost:8080/",
          "height": 529
        },
        "id": "AAWRqQJiG9iX",
        "outputId": "e4f02b24-ae76-4e02-ab10-be1caa3735c1"
      },
      "outputs": [
        {
          "data": {
            "image/png": "[encoded data removed]",
            "text/plain": [
              "<Figure size 640x640 with 1 Axes>"
            ]
          },
          "metadata": {},
          "output_type": "display_data"
        }
      ],
      "source": [
        "# this visulisation represent the percentage of countries if there is a letter written on its flag or not\n",
        "plt.style.use('fast')\n",
        "plt_pie(modified_df,'text','letter not written on the flag','letter written on the flag')\n"
      ]
    },
    {
      "cell_type": "code",
      "execution_count": null,
      "id": "wDbuQSNbeX-t",
      "metadata": {
        "colab": {
          "base_uri": "https://localhost:8080/"
        },
        "id": "wDbuQSNbeX-t",
        "outputId": "090d4068-1b29-4bbe-b0f6-bf50aa81c367"
      },
      "outputs": [
        {
          "data": {
            "text/plain": [
              "0      0\n",
              "1      0\n",
              "2      0\n",
              "3      0\n",
              "4      0\n",
              "      ..\n",
              "189    0\n",
              "190    0\n",
              "191    0\n",
              "192    0\n",
              "193    0\n",
              "Name: crosses, Length: 194, dtype: object"
            ]
          },
          "execution_count": 41,
          "metadata": {},
          "output_type": "execute_result"
        }
      ],
      "source": [
        "modified_df['crosses'] # taking a look on the crosses\n"
      ]
    },
    {
      "cell_type": "code",
      "execution_count": null,
      "id": "H0ENTN4onEoJ",
      "metadata": {
        "colab": {
          "base_uri": "https://localhost:8080/",
          "height": 461
        },
        "id": "H0ENTN4onEoJ",
        "outputId": "2bc9f4be-b9ec-48b3-9b14-0268975c204a"
      },
      "outputs": [
        {
          "data": {
            "image/png": "[encoded data removed]",
            "text/plain": [
              "<Figure size 640x440 with 1 Axes>"
            ]
          },
          "metadata": {},
          "output_type": "display_data"
        },
        {
          "data": {
            "text/plain": [
              "<Figure size 1600x1600 with 0 Axes>"
            ]
          },
          "metadata": {},
          "output_type": "display_data"
        }
      ],
      "source": [
        "plt.style.use('seaborn')\n",
        "plt_hist(modified_df,'crosses','number of upright crosses','number of countries')\n",
        "# this visualization shows us how many country has different numbers of upright crosses on it flag\n"
      ]
    },
    {
      "cell_type": "code",
      "execution_count": null,
      "id": "GaeOFI3_wL26",
      "metadata": {
        "colab": {
          "base_uri": "https://localhost:8080/"
        },
        "id": "GaeOFI3_wL26",
        "outputId": "ac39f9a7-6fe6-4f16-85d9-5a59b4a178aa"
      },
      "outputs": [
        {
          "data": {
            "text/plain": [
              "0       648\n",
              "1        29\n",
              "2      2388\n",
              "3         0\n",
              "4         0\n",
              "       ... \n",
              "189       3\n",
              "190     256\n",
              "191     905\n",
              "192     753\n",
              "193     391\n",
              "Name: area, Length: 194, dtype: object"
            ]
          },
          "execution_count": 64,
          "metadata": {},
          "output_type": "execute_result"
        }
      ],
      "source": [
        "# taking a look on area\n",
        "modified_df['area']"
      ]
    },
    {
      "cell_type": "code",
      "execution_count": null,
      "id": "me-5cI7zwlLE",
      "metadata": {
        "colab": {
          "base_uri": "https://localhost:8080/"
        },
        "id": "me-5cI7zwlLE",
        "outputId": "aa172ab5-3f18-4ea2-cd31-ab312f15e820"
      },
      "outputs": [
        {
          "data": {
            "text/plain": [
              "0      16\n",
              "1       3\n",
              "2      20\n",
              "3       0\n",
              "4       0\n",
              "       ..\n",
              "189     0\n",
              "190    22\n",
              "191    28\n",
              "192     6\n",
              "193     8\n",
              "Name: population, Length: 194, dtype: object"
            ]
          },
          "execution_count": 76,
          "metadata": {},
          "output_type": "execute_result"
        }
      ],
      "source": [
        "# taking a look on population\n",
        "modified_df['population']"
      ]
    },
    {
      "cell_type": "code",
      "execution_count": null,
      "id": "f_w7vYkjr83_",
      "metadata": {
        "colab": {
          "base_uri": "https://localhost:8080/",
          "height": 424
        },
        "id": "f_w7vYkjr83_",
        "outputId": "65272adf-f88f-420a-e226-76cdee0a3e53"
      },
      "outputs": [
        {
          "data": {
            "text/plain": [
              "<matplotlib.collections.PathCollection at 0x7fc0df3b7ee0>"
            ]
          },
          "execution_count": 156,
          "metadata": {},
          "output_type": "execute_result"
        },
        {
          "data": {
            "image/png": "[encoded data removed]",
            "text/plain": [
              "<Figure size 640x440 with 1 Axes>"
            ]
          },
          "metadata": {},
          "output_type": "display_data"
        }
      ],
      "source": [
        "# after studying the data there might be a relation bewteen some features e.g population and country area\n",
        "plt.scatter(modified_df['area'],modified_df['population'])\n",
        "# from this visualization there is no relation between the area and population"
      ]
    },
    {
      "cell_type": "code",
      "execution_count": null,
      "id": "bUDs9eP63dkd",
      "metadata": {
        "colab": {
          "base_uri": "https://localhost:8080/",
          "height": 492
        },
        "id": "bUDs9eP63dkd",
        "outputId": "baaea443-c167-4950-c323-2d2d4e74eba8"
      },
      "outputs": [
        {
          "name": "stderr",
          "output_type": "stream",
          "text": [
            "/usr/local/lib/python3.8/dist-packages/seaborn/_decorators.py:36: FutureWarning: Pass the following variable as a keyword arg: x. From version 0.12, the only valid positional argument will be `data`, and passing other arguments without an explicit keyword will result in an error or misinterpretation.\n",
            "  warnings.warn(\n"
          ]
        },
        {
          "data": {
            "text/plain": [
              "<matplotlib.axes._subplots.AxesSubplot at 0x7fc0df5f6940>"
            ]
          },
          "execution_count": 157,
          "metadata": {},
          "output_type": "execute_result"
        },
        {
          "data": {
            "image/png": "[encoded data removed]",
            "text/plain": [
              "<Figure size 640x440 with 1 Axes>"
            ]
          },
          "metadata": {},
          "output_type": "display_data"
        }
      ],
      "source": [
        "sns.boxplot(modified_df['colors']) # we can see there is some outliers so we have to solve them"
      ]
    },
    {
      "cell_type": "markdown",
      "id": "UHK2IQlhLfu9",
      "metadata": {
        "id": "UHK2IQlhLfu9"
      },
      "source": [
        "a function that return a list of indeces that has outliers"
      ]
    },
    {
      "cell_type": "code",
      "execution_count": null,
      "id": "_dWkH5oz_AZ4",
      "metadata": {
        "id": "_dWkH5oz_AZ4"
      },
      "outputs": [],
      "source": [
        "# define a function called \"outliers\" which returns a list of index of outliers\n",
        "#IQR=Q3-Q1\n",
        "#+/-1.5*IQR\n",
        "def outliers(df,ft):\n",
        "  Q1=df[ft].quantile(0.25)\n",
        "  Q3=df[ft].quantile(0.75)\n",
        "  IQR=Q3-Q1\n",
        "  lower_bound=Q1-1.5*IQR\n",
        "  upper_bound=Q3+1.5*IQR\n",
        "  lst=df.index[(df[ft]<lower_bound) | (df[ft]>upper_bound)]\n",
        "  return lst"
      ]
    },
    {
      "cell_type": "code",
      "execution_count": null,
      "id": "dO5ZPW7uBBxq",
      "metadata": {
        "id": "dO5ZPW7uBBxq"
      },
      "outputs": [],
      "source": [
        "index_list=[] # a list that stores the indeces that have outliers in \"colors\" feature\n",
        "\n",
        "for feature in modified_df.columns:\n",
        "  index_list.extend(outliers(modified_df,feature))\n"
      ]
    },
    {
      "cell_type": "code",
      "execution_count": null,
      "id": "CFYp3GzJLG_t",
      "metadata": {
        "colab": {
          "base_uri": "https://localhost:8080/"
        },
        "id": "CFYp3GzJLG_t",
        "outputId": "120c4899-dbe3-42f2-b553-2d0f330cdd96"
      },
      "outputs": [
        {
          "data": {
            "text/plain": [
              "[2,\n",
              " 5,\n",
              " 8,\n",
              " 9,\n",
              " 10,\n",
              " 23,\n",
              " 31,\n",
              " 35,\n",
              " 37,\n",
              " 54,\n",
              " 69,\n",
              " 81,\n",
              " 82,\n",
              " 83,\n",
              " 100,\n",
              " 107,\n",
              " 112,\n",
              " 115,\n",
              " 125,\n",
              " 136,\n",
              " 146,\n",
              " 153,\n",
              " 162,\n",
              " 183,\n",
              " 184,\n",
              " 14,\n",
              " 23,\n",
              " 37,\n",
              " 51,\n",
              " 59,\n",
              " 65,\n",
              " 81,\n",
              " 82,\n",
              " 83,\n",
              " 87,\n",
              " 90,\n",
              " 112,\n",
              " 126,\n",
              " 132,\n",
              " 137,\n",
              " 138,\n",
              " 154,\n",
              " 156,\n",
              " 170,\n",
              " 175,\n",
              " 180,\n",
              " 183,\n",
              " 184,\n",
              " 188,\n",
              " 2,\n",
              " 4,\n",
              " 15,\n",
              " 16,\n",
              " 30,\n",
              " 31,\n",
              " 32,\n",
              " 34,\n",
              " 35,\n",
              " 59,\n",
              " 60,\n",
              " 72,\n",
              " 73,\n",
              " 74,\n",
              " 76,\n",
              " 85,\n",
              " 87,\n",
              " 88,\n",
              " 98,\n",
              " 103,\n",
              " 107,\n",
              " 108,\n",
              " 112,\n",
              " 115,\n",
              " 126,\n",
              " 132,\n",
              " 136,\n",
              " 142,\n",
              " 143,\n",
              " 147,\n",
              " 157,\n",
              " 161,\n",
              " 178,\n",
              " 186,\n",
              " 192,\n",
              " 68,\n",
              " 99,\n",
              " 105,\n",
              " 181,\n",
              " 183,\n",
              " 17,\n",
              " 19,\n",
              " 24,\n",
              " 33,\n",
              " 48,\n",
              " 56,\n",
              " 57,\n",
              " 71,\n",
              " 78,\n",
              " 100,\n",
              " 116,\n",
              " 135,\n",
              " 142,\n",
              " 158,\n",
              " 164,\n",
              " 176,\n",
              " 182,\n",
              " 187,\n",
              " 6,\n",
              " 8,\n",
              " 9,\n",
              " 12,\n",
              " 15,\n",
              " 22,\n",
              " 23,\n",
              " 39,\n",
              " 44,\n",
              " 52,\n",
              " 58,\n",
              " 62,\n",
              " 68,\n",
              " 72,\n",
              " 77,\n",
              " 81,\n",
              " 85,\n",
              " 86,\n",
              " 89,\n",
              " 100,\n",
              " 109,\n",
              " 110,\n",
              " 113,\n",
              " 119,\n",
              " 120,\n",
              " 124,\n",
              " 125,\n",
              " 126,\n",
              " 132,\n",
              " 141,\n",
              " 144,\n",
              " 146,\n",
              " 149,\n",
              " 151,\n",
              " 152,\n",
              " 157,\n",
              " 160,\n",
              " 161,\n",
              " 165,\n",
              " 169,\n",
              " 181,\n",
              " 1,\n",
              " 4,\n",
              " 5,\n",
              " 12,\n",
              " 14,\n",
              " 15,\n",
              " 16,\n",
              " 18,\n",
              " 21,\n",
              " 27,\n",
              " 30,\n",
              " 32,\n",
              " 35,\n",
              " 37,\n",
              " 38,\n",
              " 40,\n",
              " 50,\n",
              " 54,\n",
              " 62,\n",
              " 64,\n",
              " 65,\n",
              " 66,\n",
              " 70,\n",
              " 73,\n",
              " 74,\n",
              " 76,\n",
              " 89,\n",
              " 92,\n",
              " 100,\n",
              " 101,\n",
              " 104,\n",
              " 107,\n",
              " 110,\n",
              " 111,\n",
              " 115,\n",
              " 117,\n",
              " 143,\n",
              " 145,\n",
              " 147,\n",
              " 156,\n",
              " 157,\n",
              " 165,\n",
              " 169,\n",
              " 184,\n",
              " 185,\n",
              " 188,\n",
              " 191,\n",
              " 192,\n",
              " 3,\n",
              " 6,\n",
              " 17,\n",
              " 20,\n",
              " 24,\n",
              " 32,\n",
              " 33,\n",
              " 57,\n",
              " 71,\n",
              " 78,\n",
              " 81,\n",
              " 85,\n",
              " 97,\n",
              " 112,\n",
              " 120,\n",
              " 125,\n",
              " 141,\n",
              " 142,\n",
              " 153,\n",
              " 157,\n",
              " 158,\n",
              " 164,\n",
              " 176,\n",
              " 187,\n",
              " 191,\n",
              " 192,\n",
              " 14,\n",
              " 17,\n",
              " 19,\n",
              " 20,\n",
              " 23,\n",
              " 29,\n",
              " 33,\n",
              " 41,\n",
              " 48,\n",
              " 56,\n",
              " 61,\n",
              " 69,\n",
              " 70,\n",
              " 78,\n",
              " 81,\n",
              " 90,\n",
              " 93,\n",
              " 96,\n",
              " 115,\n",
              " 125,\n",
              " 127,\n",
              " 128,\n",
              " 135,\n",
              " 139,\n",
              " 154,\n",
              " 168,\n",
              " 174,\n",
              " 179,\n",
              " 191,\n",
              " 10,\n",
              " 19,\n",
              " 24,\n",
              " 33,\n",
              " 41,\n",
              " 46,\n",
              " 49,\n",
              " 55,\n",
              " 56,\n",
              " 57,\n",
              " 58,\n",
              " 68,\n",
              " 78,\n",
              " 80,\n",
              " 108,\n",
              " 116,\n",
              " 123,\n",
              " 127,\n",
              " 130,\n",
              " 153,\n",
              " 158,\n",
              " 165,\n",
              " 166,\n",
              " 172,\n",
              " 176,\n",
              " 177,\n",
              " 180,\n",
              " 10,\n",
              " 19,\n",
              " 24,\n",
              " 29,\n",
              " 33,\n",
              " 41,\n",
              " 56,\n",
              " 57,\n",
              " 78,\n",
              " 89,\n",
              " 116,\n",
              " 123,\n",
              " 127,\n",
              " 153,\n",
              " 158,\n",
              " 176,\n",
              " 177,\n",
              " 180,\n",
              " 10,\n",
              " 19,\n",
              " 24,\n",
              " 28,\n",
              " 33,\n",
              " 36,\n",
              " 41,\n",
              " 56,\n",
              " 57,\n",
              " 68,\n",
              " 78,\n",
              " 99,\n",
              " 105,\n",
              " 116,\n",
              " 123,\n",
              " 127,\n",
              " 133,\n",
              " 158,\n",
              " 168,\n",
              " 171,\n",
              " 172,\n",
              " 176,\n",
              " 177,\n",
              " 181,\n",
              " 183,\n",
              " 189,\n",
              " 10,\n",
              " 23,\n",
              " 28,\n",
              " 29,\n",
              " 33,\n",
              " 37,\n",
              " 39,\n",
              " 41,\n",
              " 48,\n",
              " 70,\n",
              " 77,\n",
              " 84,\n",
              " 113,\n",
              " 122,\n",
              " 123,\n",
              " 127,\n",
              " 134,\n",
              " 137,\n",
              " 150,\n",
              " 151,\n",
              " 177,\n",
              " 183,\n",
              " 187,\n",
              " 189,\n",
              " 2,\n",
              " 39,\n",
              " 105,\n",
              " 106,\n",
              " 110,\n",
              " 115,\n",
              " 120,\n",
              " 132,\n",
              " 150,\n",
              " 174,\n",
              " 175,\n",
              " 3,\n",
              " 7,\n",
              " 12,\n",
              " 25,\n",
              " 43,\n",
              " 45,\n",
              " 47,\n",
              " 53,\n",
              " 70,\n",
              " 75,\n",
              " 89,\n",
              " 91,\n",
              " 115,\n",
              " 118,\n",
              " 134,\n",
              " 137,\n",
              " 140,\n",
              " 145,\n",
              " 151,\n",
              " 155,\n",
              " 159,\n",
              " 160,\n",
              " 162,\n",
              " 169,\n",
              " 173,\n",
              " 185,\n",
              " 193,\n",
              " 1,\n",
              " 3,\n",
              " 6,\n",
              " 17,\n",
              " 19,\n",
              " 20,\n",
              " 24,\n",
              " 25,\n",
              " 26,\n",
              " 28,\n",
              " 31,\n",
              " 32,\n",
              " 33,\n",
              " 40,\n",
              " 44,\n",
              " 48,\n",
              " 51,\n",
              " 56,\n",
              " 57,\n",
              " 70,\n",
              " 71,\n",
              " 78,\n",
              " 94,\n",
              " 97,\n",
              " 112,\n",
              " 116,\n",
              " 134,\n",
              " 135,\n",
              " 142,\n",
              " 157,\n",
              " 161,\n",
              " 176,\n",
              " 179,\n",
              " 182,\n",
              " 185,\n",
              " 187,\n",
              " 191,\n",
              " 192,\n",
              " 193,\n",
              " 17,\n",
              " 23,\n",
              " 24,\n",
              " 25,\n",
              " 33,\n",
              " 51,\n",
              " 56,\n",
              " 71,\n",
              " 78,\n",
              " 83,\n",
              " 135,\n",
              " 142,\n",
              " 143,\n",
              " 146,\n",
              " 161,\n",
              " 182]"
            ]
          },
          "execution_count": 141,
          "metadata": {},
          "output_type": "execute_result"
        }
      ],
      "source": [
        "index_list #printing the indeces that have outliers"
      ]
    },
    {
      "cell_type": "markdown",
      "id": "qDjBrMaeLyiX",
      "metadata": {
        "id": "qDjBrMaeLyiX"
      },
      "source": [
        "a function that remove the outliers"
      ]
    },
    {
      "cell_type": "code",
      "execution_count": null,
      "id": "RzIPEWA4L1Eu",
      "metadata": {
        "id": "RzIPEWA4L1Eu"
      },
      "outputs": [],
      "source": [
        "def remove(df,lst):\n",
        "  lst=sorted(set(lst))\n",
        "  df=df.drop(lst) #dropping the indeces that have outliers\n",
        "  return df"
      ]
    },
    {
      "cell_type": "code",
      "execution_count": null,
      "id": "PKuh4v5rMZ4x",
      "metadata": {
        "id": "PKuh4v5rMZ4x"
      },
      "outputs": [],
      "source": [
        "cleaned_df=remove(modified_df,index_list) # the outliers are removed"
      ]
    },
    {
      "cell_type": "code",
      "execution_count": null,
      "id": "cliF5q9IPP6K",
      "metadata": {
        "colab": {
          "base_uri": "https://localhost:8080/",
          "height": 492
        },
        "id": "cliF5q9IPP6K",
        "outputId": "ee262dab-c09a-43b1-8152-ea25a8476f8d"
      },
      "outputs": [
        {
          "name": "stderr",
          "output_type": "stream",
          "text": [
            "/usr/local/lib/python3.8/dist-packages/seaborn/_decorators.py:36: FutureWarning: Pass the following variable as a keyword arg: x. From version 0.12, the only valid positional argument will be `data`, and passing other arguments without an explicit keyword will result in an error or misinterpretation.\n",
            "  warnings.warn(\n"
          ]
        },
        {
          "data": {
            "text/plain": [
              "<matplotlib.axes._subplots.AxesSubplot at 0x7fc0df32a6a0>"
            ]
          },
          "execution_count": 158,
          "metadata": {},
          "output_type": "execute_result"
        },
        {
          "data": {
            "image/png": "[encoded data removed]",
            "text/plain": [
              "<Figure size 640x440 with 1 Axes>"
            ]
          },
          "metadata": {},
          "output_type": "display_data"
        }
      ],
      "source": [
        "\n",
        "sns.boxplot(cleaned_df['colors']) # making a boxplot for \"color features\" without outliers"
      ]
    },
    {
      "cell_type": "code",
      "execution_count": null,
      "id": "39RD0zp5XQDV",
      "metadata": {
        "colab": {
          "base_uri": "https://localhost:8080/",
          "height": 497
        },
        "id": "39RD0zp5XQDV",
        "outputId": "a1d30ab0-b408-42ef-96a9-4dcc0e1c9eb2"
      },
      "outputs": [
        {
          "name": "stderr",
          "output_type": "stream",
          "text": [
            "/usr/local/lib/python3.8/dist-packages/seaborn/distributions.py:2619: FutureWarning: `distplot` is a deprecated function and will be removed in a future version. Please adapt your code to use either `displot` (a figure-level function with similar flexibility) or `histplot` (an axes-level function for histograms).\n",
            "  warnings.warn(msg, FutureWarning)\n"
          ]
        },
        {
          "data": {
            "text/plain": [
              "<matplotlib.axes._subplots.AxesSubplot at 0x7fc0dc762c10>"
            ]
          },
          "execution_count": 169,
          "metadata": {},
          "output_type": "execute_result"
        },
        {
          "data": {
            "image/png": "[encoded data removed]",
            "text/plain": [
              "<Figure size 640x440 with 1 Axes>"
            ]
          },
          "metadata": {},
          "output_type": "display_data"
        }
      ],
      "source": [
        "sns.distplot(modified_df['population']) # showing how is the population distributed"
      ]
    }
  ],
  "metadata": {
    "colab": {
      "provenance": []
    },
    "kernelspec": {
      "display_name": "Python 3 (ipykernel)",
      "language": "python",
      "name": "python3"
    },
    "language_info": {
      "codemirror_mode": {
        "name": "ipython",
        "version": 3
      },
      "file_extension": ".py",
      "mimetype": "text/x-python",
      "name": "python",
      "nbconvert_exporter": "python",
      "pygments_lexer": "ipython3",
      "version": "3.9.7"
    }
  },
  "nbformat": 4,
  "nbformat_minor": 5
}
